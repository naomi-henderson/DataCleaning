{
 "cells": [
  {
   "cell_type": "markdown",
   "metadata": {},
   "source": [
    "<a id='top'></a>"
   ]
  },
  {
   "cell_type": "markdown",
   "metadata": {},
   "source": [
    "# Pangeo CMIP6 [Google Cloud Catalog](#catalog) and [NCAR/Glade Catalog](#NCARcatalog) Viewer "
   ]
  },
  {
   "cell_type": "markdown",
   "metadata": {},
   "source": [
    "### Helpful Links\n",
    "- To get started, '>Kernel >Restart Kernel & Run All Cells'\n",
    "- Check availability at: [ESGF](https://esgf-node.llnl.gov/search/cmip6/)\n",
    "- [Variable Names](#variables)\n",
    "- [Table Names](#tables)\n",
    "- [Model Information](#models)\n",
    "- Experiments: [Tier 1](#experiments1) [Tier 2](#experiments2) [Tier 3](#experiments3) [Tier 4](#experiments4)\n",
    "- Others: [Member_id](#member) [Grid_label](#grid)\n",
    "- file exceptions when concatenating in time: [Exceptions](#except)"
   ]
  },
  {
   "cell_type": "markdown",
   "metadata": {},
   "source": [
    "## Google Cloud Catalog Viewer\n",
    "- Click on filters (top right of each column)\n",
    "- Reset by running 'widget' cell again"
   ]
  },
  {
   "cell_type": "code",
   "execution_count": 9,
   "metadata": {},
   "outputs": [
    {
     "name": "stdout",
     "output_type": "stream",
     "text": [
      "number of zstores: 28660\n"
     ]
    }
   ],
   "source": [
    "import pandas as pd\n",
    "import qgrid\n",
    "dfcat = pd.read_csv('https://cmip6.storage.googleapis.com/cmip6.csv')\n",
    "#dfcat = pd.read_csv('https://cmip6.storage.googleapis.com/cmip6-zarr-consolidated-stores.csv')\n",
    "print('number of zstores:',dfcat.shape[0])"
   ]
  },
  {
   "cell_type": "markdown",
   "metadata": {},
   "source": [
    "<a id='catalog'></a>"
   ]
  },
  {
   "cell_type": "code",
   "execution_count": 5,
   "metadata": {},
   "outputs": [
    {
     "name": "stdout",
     "output_type": "stream",
     "text": [
      "GCS Catalog\n"
     ]
    },
    {
     "data": {
      "application/vnd.jupyter.widget-view+json": {
       "model_id": "9390bc754c2c454c80d269b94682c479",
       "version_major": 2,
       "version_minor": 0
      },
      "text/plain": [
       "QgridWidget(grid_options={'fullWidthRows': True, 'syncColumnCellResize': True, 'forceFitColumns': True, 'defau…"
      ]
     },
     "metadata": {},
     "output_type": "display_data"
    }
   ],
   "source": [
    "widget=qgrid.show_grid(dfcat.drop(['institution_id','dcpp_init_year'],1))\n",
    "print('GCS Catalog')\n",
    "widget"
   ]
  },
  {
   "cell_type": "code",
   "execution_count": 4,
   "metadata": {},
   "outputs": [],
   "source": [
    "# save results\n",
    "df = widget.get_changed_df()     # use this to save filtered dataframe\n",
    "# df = widget.get_selected_df()  # use this instead to save selected rows"
   ]
  },
  {
   "cell_type": "markdown",
   "metadata": {},
   "source": [
    "## NCAR/Glade Catalog Viewer\n",
    "- Click on filters (top right of each column)\n",
    "- Reset by running 'widget' cell again"
   ]
  },
  {
   "cell_type": "code",
   "execution_count": 7,
   "metadata": {},
   "outputs": [
    {
     "name": "stdout",
     "output_type": "stream",
     "text": [
      "number of netcdf files: 590735\n"
     ]
    }
   ],
   "source": [
    "import pandas as pd\n",
    "import qgrid\n",
    "dfcat2 = pd.read_csv('ftp://ftp.cgd.ucar.edu/archive/aletheia-data/intake-esm-datastore/catalogs/glade-cmip6.csv')\n",
    "\n",
    "print('number of netcdf files:',dfcat2.shape[0])"
   ]
  },
  {
   "cell_type": "markdown",
   "metadata": {},
   "source": [
    "<a id='NCARcatalog'></a>"
   ]
  },
  {
   "cell_type": "code",
   "execution_count": 6,
   "metadata": {},
   "outputs": [
    {
     "name": "stdout",
     "output_type": "stream",
     "text": [
      "NCAR/Glade Catalog\n"
     ]
    },
    {
     "data": {
      "application/vnd.jupyter.widget-view+json": {
       "model_id": "9d999aac96c544cfb68a1432da319e71",
       "version_major": 2,
       "version_minor": 0
      },
      "text/plain": [
       "QgridWidget(grid_options={'fullWidthRows': True, 'syncColumnCellResize': True, 'forceFitColumns': True, 'defau…"
      ]
     },
     "metadata": {},
     "output_type": "display_data"
    }
   ],
   "source": [
    "widget=qgrid.show_grid(dfcat2.drop(['activity_id','institution_id','dcpp_init_year'],1))\n",
    "print('NCAR/Glade Catalog')\n",
    "widget"
   ]
  },
  {
   "cell_type": "code",
   "execution_count": 7,
   "metadata": {},
   "outputs": [],
   "source": [
    "# save results\n",
    "df2 = widget.get_changed_df()     # use this to save filtered dataframe\n",
    "# df2 = widget.get_selected_df()  # use this instead to save selected rows"
   ]
  },
  {
   "cell_type": "markdown",
   "metadata": {},
   "source": [
    "<a id='variables'></a>"
   ]
  },
  {
   "cell_type": "markdown",
   "metadata": {},
   "source": [
    "## Variables\n",
    "return to [GCS catalog](#catalog) or [NCAR catalog](#NCARcatalog)"
   ]
  },
  {
   "cell_type": "code",
   "execution_count": 8,
   "metadata": {},
   "outputs": [
    {
     "data": {
      "application/vnd.jupyter.widget-view+json": {
       "model_id": "ee3b06e0a5784906b80d611094e22b28",
       "version_major": 2,
       "version_minor": 0
      },
      "text/plain": [
       "QgridWidget(grid_options={'fullWidthRows': True, 'syncColumnCellResize': True, 'forceFitColumns': True, 'defau…"
      ]
     },
     "metadata": {},
     "output_type": "display_data"
    }
   ],
   "source": [
    "df = pd.read_csv('http://fletcher.ldeo.columbia.edu/catalogs/Variables.csv')\n",
    "qgrid.show_grid(df, column_definitions={'description':{'width':400}})"
   ]
  },
  {
   "cell_type": "markdown",
   "metadata": {},
   "source": [
    "<a id='tables'></a>"
   ]
  },
  {
   "cell_type": "markdown",
   "metadata": {},
   "source": [
    "## Tables\n",
    "return to [GCS catalog](#catalog) or [NCAR catalog](#NCARcatalog)"
   ]
  },
  {
   "cell_type": "code",
   "execution_count": 6,
   "metadata": {},
   "outputs": [
    {
     "data": {
      "application/vnd.jupyter.widget-view+json": {
       "model_id": "13faaa37fce24f0a9948404e8bb44a1d",
       "version_major": 2,
       "version_minor": 0
      },
      "text/plain": [
       "QgridWidget(grid_options={'fullWidthRows': True, 'syncColumnCellResize': True, 'forceFitColumns': True, 'defau…"
      ]
     },
     "metadata": {},
     "output_type": "display_data"
    }
   ],
   "source": [
    "df = pd.read_csv('http://fletcher.ldeo.columbia.edu/catalogs/Tables.csv')\n",
    "qgrid.show_grid(df, column_definitions={'description':{'width':400}})"
   ]
  },
  {
   "cell_type": "markdown",
   "metadata": {},
   "source": [
    "<a id='models'></a>"
   ]
  },
  {
   "cell_type": "markdown",
   "metadata": {},
   "source": [
    "# Model Information\n",
    "return to [GCS catalog](#catalog) or [NCAR catalog](#NCARcatalog)"
   ]
  },
  {
   "cell_type": "code",
   "execution_count": 8,
   "metadata": {},
   "outputs": [
    {
     "data": {
      "application/vnd.jupyter.widget-view+json": {
       "model_id": "75d5f0b83d714631bdc65be6a81c6b38",
       "version_major": 2,
       "version_minor": 0
      },
      "text/plain": [
       "QgridWidget(grid_options={'fullWidthRows': True, 'syncColumnCellResize': True, 'forceFitColumns': True, 'defau…"
      ]
     },
     "metadata": {},
     "output_type": "display_data"
    }
   ],
   "source": [
    "df = pd.read_csv('http://fletcher.ldeo.columbia.edu/catalogs/Models.csv')\n",
    "qgrid.show_grid(df)"
   ]
  },
  {
   "cell_type": "markdown",
   "metadata": {},
   "source": [
    "<a id='experiments1'></a>"
   ]
  },
  {
   "cell_type": "markdown",
   "metadata": {},
   "source": [
    "## Tier 1 Experiments\n",
    "return to [GCS catalog](#catalog) or [NCAR catalog](#NCARcatalog)"
   ]
  },
  {
   "cell_type": "code",
   "execution_count": 11,
   "metadata": {},
   "outputs": [
    {
     "data": {
      "application/vnd.jupyter.widget-view+json": {
       "model_id": "d6cf37fa93f14ae0946283b32c9c6635",
       "version_major": 2,
       "version_minor": 0
      },
      "text/plain": [
       "QgridWidget(grid_options={'fullWidthRows': True, 'syncColumnCellResize': True, 'forceFitColumns': True, 'defau…"
      ]
     },
     "metadata": {},
     "output_type": "display_data"
    }
   ],
   "source": [
    "df = pd.read_csv('http://fletcher.ldeo.columbia.edu/catalogs/Experiments_tier1.csv')\n",
    "qgrid.show_grid(df)"
   ]
  },
  {
   "cell_type": "markdown",
   "metadata": {},
   "source": [
    "<a id='experiments2'></a>"
   ]
  },
  {
   "cell_type": "markdown",
   "metadata": {},
   "source": [
    "## Tier 2 Experiments\n",
    "return to [GCS catalog](#catalog) or [NCAR catalog](#NCARcatalog)"
   ]
  },
  {
   "cell_type": "code",
   "execution_count": 12,
   "metadata": {},
   "outputs": [
    {
     "data": {
      "application/vnd.jupyter.widget-view+json": {
       "model_id": "8b578d496917406ab0197f6ba7438d49",
       "version_major": 2,
       "version_minor": 0
      },
      "text/plain": [
       "QgridWidget(grid_options={'fullWidthRows': True, 'syncColumnCellResize': True, 'forceFitColumns': True, 'defau…"
      ]
     },
     "metadata": {},
     "output_type": "display_data"
    }
   ],
   "source": [
    "df = pd.read_csv('http://fletcher.ldeo.columbia.edu/catalogs/Experiments_tier2.csv')\n",
    "qgrid.show_grid(df)"
   ]
  },
  {
   "cell_type": "markdown",
   "metadata": {},
   "source": [
    "<a id='experiments3'></a>"
   ]
  },
  {
   "cell_type": "markdown",
   "metadata": {},
   "source": [
    "## Tier 3 Experiments\n",
    "return to [GCS catalog](#catalog) or [NCAR catalog](#NCARcatalog)"
   ]
  },
  {
   "cell_type": "code",
   "execution_count": 13,
   "metadata": {},
   "outputs": [
    {
     "data": {
      "application/vnd.jupyter.widget-view+json": {
       "model_id": "e89042bc985a40698bca32a767a9a015",
       "version_major": 2,
       "version_minor": 0
      },
      "text/plain": [
       "QgridWidget(grid_options={'fullWidthRows': True, 'syncColumnCellResize': True, 'forceFitColumns': True, 'defau…"
      ]
     },
     "metadata": {},
     "output_type": "display_data"
    }
   ],
   "source": [
    "df = pd.read_csv('http://fletcher.ldeo.columbia.edu/catalogs/Experiments_tier3.csv')\n",
    "qgrid.show_grid(df)"
   ]
  },
  {
   "cell_type": "markdown",
   "metadata": {},
   "source": [
    "<a id='experiments4'></a>"
   ]
  },
  {
   "cell_type": "markdown",
   "metadata": {},
   "source": [
    "## Tier 4 Experiments\n",
    "return to [GCS catalog](#catalog) or [NCAR catalog](#NCARcatalog)"
   ]
  },
  {
   "cell_type": "code",
   "execution_count": 14,
   "metadata": {},
   "outputs": [
    {
     "data": {
      "application/vnd.jupyter.widget-view+json": {
       "model_id": "cf1045ca7ec54dccb3dc479d2676ef52",
       "version_major": 2,
       "version_minor": 0
      },
      "text/plain": [
       "QgridWidget(grid_options={'fullWidthRows': True, 'syncColumnCellResize': True, 'forceFitColumns': True, 'defau…"
      ]
     },
     "metadata": {},
     "output_type": "display_data"
    }
   ],
   "source": [
    "df = pd.read_csv('http://fletcher.ldeo.columbia.edu/catalogs/Experiments_tier4.csv')\n",
    "qgrid.show_grid(df)"
   ]
  },
  {
   "cell_type": "markdown",
   "metadata": {},
   "source": [
    "<a id='member'></a>"
   ]
  },
  {
   "cell_type": "markdown",
   "metadata": {},
   "source": [
    "## member_id: \n",
    "return to [GCS catalog](#catalog) or [NCAR catalog](#NCARcatalog)\n",
    "\n",
    "```\n",
    "a key constructed from 4 indices stored as global attributes:\n",
    "\n",
    "member_id = r<k>i<l>p<m>f<n>\n",
    "\n",
    "       where\n",
    "\n",
    " k = realization_index\n",
    " l = initialization_index\n",
    " m = physics_index\n",
    " n = forcing_index\n",
    "```"
   ]
  },
  {
   "cell_type": "markdown",
   "metadata": {},
   "source": [
    "<a id='grid'></a>"
   ]
  },
  {
   "cell_type": "markdown",
   "metadata": {},
   "source": [
    "## grid_label: \n",
    "return to [GCS catalog](#catalog) or [NCAR catalog](#NCARcatalog)\n",
    "```\n",
    "a key indicating if on native grid, regridded, etc\n",
    "Modeling groups may choose to report their output on the model’s native grid and/or regrid it to one or more target grids. To distinguish between output reported on different grids, a “grid_label” attribute is defined.\n",
    "\n",
    "The rules for assigning grid labels should make it easy for users to select (using the ESGF search tools) CMIP output that is on a grid considered by each\n",
    "modeling group to best represent its model -- the so-called “primary” grid. If output is reported on the native grid, this is always deemed the “primary”\n",
    "grid. If output is not reported on the native grid, then modeling groups should regrid the data to some primary grid of its choosing For the “primary”\n",
    "grid the following labels apply:\n",
    "\n",
    "grid_label = \"gn\" (output is reported on the native grid)\n",
    "grid_label = \"gr\" (output is not reported on the native grid, but instead is regridded by the modeling group to a “primary grid” of its choosing)\n",
    "grid_label = “gm” (global mean output is reported, so data are not gridded)\n",
    "\n",
    "As noted below sometimes a “z” or “a” or “g” is appended to the labels to indicate “zonal means” or grids limited to Antarctica or Greenland.\n",
    "If besides the “primary” grid, output is regridded to an additional grid, then for this output:\n",
    "grid_label = \"gr[i]\" (a “secondary” grid), where <i> should be replaced by a positive integer less than 10, which distinguishes this output from\n",
    "other regridded output.\n",
    "```"
   ]
  },
  {
   "cell_type": "markdown",
   "metadata": {},
   "source": [
    "<a id='except'></a>"
   ]
  },
  {
   "cell_type": "markdown",
   "metadata": {},
   "source": [
    "## time concatenation exceptions: \n",
    "return to [GCS catalog](#catalog) or [NCAR catalog](#NCARcatalog)"
   ]
  },
  {
   "cell_type": "code",
   "execution_count": 15,
   "metadata": {},
   "outputs": [
    {
     "data": {
      "application/vnd.jupyter.widget-view+json": {
       "model_id": "ed92ef4ab81b4c5fbe2833953cb1bc3d",
       "version_major": 2,
       "version_minor": 0
      },
      "text/plain": [
       "QgridWidget(grid_options={'fullWidthRows': True, 'syncColumnCellResize': True, 'forceFitColumns': True, 'defau…"
      ]
     },
     "metadata": {},
     "output_type": "display_data"
    }
   ],
   "source": [
    "df = pd.read_csv('http://fletcher.ldeo.columbia.edu/catalogs/exceptions.csv')\n",
    "qgrid.show_grid(df)"
   ]
  },
  {
   "cell_type": "markdown",
   "metadata": {},
   "source": [
    "[return to top](#top)"
   ]
  },
  {
   "cell_type": "markdown",
   "metadata": {},
   "source": [
    "Naomi Henderson (nhn2@columbia.edu), Oct 2019"
   ]
  },
  {
   "cell_type": "code",
   "execution_count": 16,
   "metadata": {},
   "outputs": [
    {
     "data": {
      "text/plain": [
       "array(['AWI-CM-1-1-MR', 'BCC-CSM2-MR', 'BCC-ESM1', 'CAMS-CSM1-0',\n",
       "       'CanESM5', 'CNRM-CM6-1', 'CNRM-ESM2-1', 'EC-Earth3-LR',\n",
       "       'EC-Earth3-Veg', 'NESM3', 'SAM0-UNICON', 'MCM-UA-1-0'],\n",
       "      dtype=object)"
      ]
     },
     "execution_count": 16,
     "metadata": {},
     "output_type": "execute_result"
    }
   ],
   "source": [
    "import pandas as pd\n",
    "df = pd.read_csv('https://storage.googleapis.com/pangeo-cmip6/pangeo-cmip6-zarr-consolidated-stores.csv')\n",
    "pick = df[ (df.variable_id == 'vo') & (df.experiment_id == 'piControl') & (df.grid_label == 'gn')]\n",
    "pick.source_id.unique()"
   ]
  },
  {
   "cell_type": "code",
   "execution_count": 17,
   "metadata": {},
   "outputs": [
    {
     "data": {
      "application/vnd.jupyter.widget-view+json": {
       "model_id": "e26f8b4b7fa94ed1ac1e02b5313bc399",
       "version_major": 2,
       "version_minor": 0
      },
      "text/plain": [
       "QgridWidget(grid_options={'fullWidthRows': True, 'syncColumnCellResize': True, 'forceFitColumns': True, 'defau…"
      ]
     },
     "metadata": {},
     "output_type": "display_data"
    }
   ],
   "source": [
    "qgrid.show_grid(df)"
   ]
  },
  {
   "cell_type": "code",
   "execution_count": null,
   "metadata": {},
   "outputs": [],
   "source": []
  }
 ],
 "metadata": {
  "kernelspec": {
   "display_name": "pangeo-latest",
   "language": "python",
   "name": "pangeo-latest"
  },
  "language_info": {
   "codemirror_mode": {
    "name": "ipython",
    "version": 3
   },
   "file_extension": ".py",
   "mimetype": "text/x-python",
   "name": "python",
   "nbconvert_exporter": "python",
   "pygments_lexer": "ipython3",
   "version": "3.7.3"
  },
  "widgets": {
   "application/vnd.jupyter.widget-state+json": {
    "state": {
     "04377bfd59f040cd8ee575c4ffb16c43": {
      "model_module": "@jupyter-widgets/base",
      "model_module_version": "1.1.0",
      "model_name": "LayoutModel",
      "state": {
       "_model_module_version": "1.1.0",
       "_view_module_version": "1.1.0"
      }
     },
     "13e607b6ddbc4ca99291a74b33c1524b": {
      "model_module": "@jupyter-widgets/base",
      "model_module_version": "1.1.0",
      "model_name": "LayoutModel",
      "state": {
       "_model_module_version": "1.1.0",
       "_view_module_version": "1.1.0"
      }
     },
     "13faaa37fce24f0a9948404e8bb44a1d": {
      "model_module": "qgrid",
      "model_module_version": "1.1.1",
      "model_name": "QgridModel",
      "state": {
       "_columns": {
        "description": {
         "cssClass": "string",
         "defaultSortAsc": true,
         "editable": true,
         "field": "description",
         "id": "description",
         "minWidth": 30,
         "name": "description",
         "position": 3,
         "resizable": true,
         "sortable": true,
         "toolTip": "",
         "type": "string",
         "width": 400
        },
        "index": {
         "cssClass": "integer first-idx-col idx-col",
         "defaultSortAsc": true,
         "editable": true,
         "field": "index",
         "first_index": true,
         "id": "index",
         "index_display_text": "",
         "is_index": true,
         "level": 0,
         "minWidth": 30,
         "name": "",
         "position": 0,
         "resizable": true,
         "sortable": true,
         "toolTip": "",
         "type": "integer"
        },
        "qgrid_unfiltered_index": {
         "cssClass": "integer",
         "defaultSortAsc": true,
         "editable": true,
         "field": "qgrid_unfiltered_index",
         "id": "qgrid_unfiltered_index",
         "maxWidth": null,
         "minWidth": 30,
         "name": "qgrid_unfiltered_index",
         "position": 1,
         "resizable": true,
         "sortable": true,
         "toolTip": "",
         "type": "integer",
         "width": null
        },
        "table_id": {
         "cssClass": "string",
         "defaultSortAsc": true,
         "editable": true,
         "field": "table_id",
         "id": "table_id",
         "minWidth": 30,
         "name": "table_id",
         "position": 2,
         "resizable": true,
         "sortable": true,
         "toolTip": "",
         "type": "string"
        }
       },
       "_df_json": "{\"schema\": {\"fields\":[{\"name\":\"index\",\"type\":\"integer\"},{\"name\":\"qgrid_unfiltered_index\",\"type\":\"integer\"},{\"name\":\"table_id\",\"type\":\"string\"},{\"name\":\"description\",\"type\":\"string\"}],\"primaryKey\":[\"index\"],\"pandas_version\":\"0.20.0\"}, \"data\": [{\"index\":0,\"qgrid_unfiltered_index\":0,\"table_id\":\"3hr\",\"description\":\"atmosphere sampled every 3 hours\"},{\"index\":1,\"qgrid_unfiltered_index\":1,\"table_id\":\"6hrLev\",\"description\":\"6-hourly data on atmospheric model levels\"},{\"index\":2,\"qgrid_unfiltered_index\":2,\"table_id\":\"6hrPlev\",\"description\":\"6-hourly atmospheric data on pressure levels (time mean)\"},{\"index\":3,\"qgrid_unfiltered_index\":3,\"table_id\":\"6hrPlevPt\",\"description\":\"6-hourly atmospheric data on pressure levels (instantaneous)\"},{\"index\":4,\"qgrid_unfiltered_index\":4,\"table_id\":\"AERday\",\"description\":\"Daily atmospheric chemistry and aerosol data\"},{\"index\":5,\"qgrid_unfiltered_index\":5,\"table_id\":\"AERfx\",\"description\":\"Fixed atmospheric chemistry and aerosol data\"},{\"index\":6,\"qgrid_unfiltered_index\":6,\"table_id\":\"AERhr\",\"description\":\"Hourly atmospheric chemistry and aerosol data\"},{\"index\":7,\"qgrid_unfiltered_index\":7,\"table_id\":\"AERmon\",\"description\":\"Monthly atmospheric chemistry and aerosol data\"},{\"index\":8,\"qgrid_unfiltered_index\":8,\"table_id\":\"AERmonZ\",\"description\":\"Monthly atmospheric chemistry and aerosol data\"},{\"index\":9,\"qgrid_unfiltered_index\":9,\"table_id\":\"Amon\",\"description\":\"Monthly atmospheric data\"},{\"index\":10,\"qgrid_unfiltered_index\":10,\"table_id\":\"CF3hr\",\"description\":\"3-hourly associated with cloud forcing\"},{\"index\":11,\"qgrid_unfiltered_index\":11,\"table_id\":\"CFday\",\"description\":\"Daily data associated with cloud forcing\"},{\"index\":12,\"qgrid_unfiltered_index\":12,\"table_id\":\"CFmon\",\"description\":\"Monthly data associated with cloud forcing\"},{\"index\":13,\"qgrid_unfiltered_index\":13,\"table_id\":\"CFsubhr\",\"description\":\"Diagnostics for cloud forcing analysis at specific sites\"},{\"index\":14,\"qgrid_unfiltered_index\":14,\"table_id\":\"E1hr\",\"description\":\"Hourly Atmospheric Data (extension)\"},{\"index\":15,\"qgrid_unfiltered_index\":15,\"table_id\":\"E1hrClimMon\",\"description\":\"Diurnal Cycle\"},{\"index\":16,\"qgrid_unfiltered_index\":16,\"table_id\":\"E3hr\",\"description\":\"3-hourly (time mean, extension)\"},{\"index\":17,\"qgrid_unfiltered_index\":17,\"table_id\":\"E3hrPt\",\"description\":\"3-hourly (instantaneous, extension)\"},{\"index\":18,\"qgrid_unfiltered_index\":18,\"table_id\":\"E6hrZ\",\"description\":\"6-hourly Zonal Mean (extension)\"},{\"index\":19,\"qgrid_unfiltered_index\":19,\"table_id\":\"Eday\",\"description\":\"Daily (time mean, extension)\"},{\"index\":20,\"qgrid_unfiltered_index\":20,\"table_id\":\"EdayZ\",\"description\":\"Daily Zonal Mean (extension)\"},{\"index\":21,\"qgrid_unfiltered_index\":21,\"table_id\":\"Efx\",\"description\":\"Fixed (extension)\"},{\"index\":22,\"qgrid_unfiltered_index\":22,\"table_id\":\"Emon\",\"description\":\"Monthly (time mean, extension)\"},{\"index\":23,\"qgrid_unfiltered_index\":23,\"table_id\":\"EmonZ\",\"description\":\"Monthly zonal means (time mean, extension)\"},{\"index\":24,\"qgrid_unfiltered_index\":24,\"table_id\":\"Esubhr\",\"description\":\"Sub-hourly (extension)\"},{\"index\":25,\"qgrid_unfiltered_index\":25,\"table_id\":\"Eyr\",\"description\":\"Daily (time mean, extension)\"},{\"index\":26,\"qgrid_unfiltered_index\":26,\"table_id\":\"IfxAnt\",\"description\":\"Fixed fields on the Antarctic ice sheet\"},{\"index\":27,\"qgrid_unfiltered_index\":27,\"table_id\":\"IfxGre\",\"description\":\"Fixed fields on the Greenland ice sheet\"},{\"index\":28,\"qgrid_unfiltered_index\":28,\"table_id\":\"ImonAnt\",\"description\":\"Monthly fields on the Antarctic ice sheet\"},{\"index\":29,\"qgrid_unfiltered_index\":29,\"table_id\":\"ImonGre\",\"description\":\"Monthly fields on the Greenland ice sheet\"},{\"index\":30,\"qgrid_unfiltered_index\":30,\"table_id\":\"IyrAnt\",\"description\":\"Annual fields on the Antarctic ice sheet\"},{\"index\":31,\"qgrid_unfiltered_index\":31,\"table_id\":\"IyrGre\",\"description\":\"Annual fields on the Greenland ice sheet\"},{\"index\":32,\"qgrid_unfiltered_index\":32,\"table_id\":\"LImon\",\"description\":\"Monthly fields for the terrestrial cryosphere\"},{\"index\":33,\"qgrid_unfiltered_index\":33,\"table_id\":\"Lmon\",\"description\":\"Monthly land surface and soil model fields\"},{\"index\":34,\"qgrid_unfiltered_index\":34,\"table_id\":\"Oclim\",\"description\":\"Monthly climatologies of ocean data\"},{\"index\":35,\"qgrid_unfiltered_index\":35,\"table_id\":\"Oday\",\"description\":\"Daily ocean data\"},{\"index\":36,\"qgrid_unfiltered_index\":36,\"table_id\":\"Odec\",\"description\":\"Decadal ocean data\"},{\"index\":37,\"qgrid_unfiltered_index\":37,\"table_id\":\"Ofx\",\"description\":\"Fixed ocean data\"},{\"index\":38,\"qgrid_unfiltered_index\":38,\"table_id\":\"Omon\",\"description\":\"Monthly ocean data\"},{\"index\":39,\"qgrid_unfiltered_index\":39,\"table_id\":\"Oyr\",\"description\":\"Annual ocean variables\"},{\"index\":40,\"qgrid_unfiltered_index\":40,\"table_id\":\"SIday\",\"description\":\"Daily sea-ice data\"},{\"index\":41,\"qgrid_unfiltered_index\":41,\"table_id\":\"SImon\",\"description\":\"Monthly sea-ice data\"},{\"index\":42,\"qgrid_unfiltered_index\":42,\"table_id\":\"day\",\"description\":\"Daily Data (extension - contains both atmospheric and oceanographic data)\"},{\"index\":43,\"qgrid_unfiltered_index\":43,\"table_id\":\"fx\",\"description\":\"Fixed variables\"}]}",
       "_df_range": [
        0,
        100
       ],
       "_editable_rows": {},
       "_index_col_name": "qgrid_unfiltered_index",
       "_interval_columns": [],
       "_model_module_version": "1.1.1",
       "_multi_index": false,
       "_row_count": 44,
       "_row_styles": {},
       "_sort_ascending": true,
       "_sort_field": null,
       "_view_module_version": "1.1.1",
       "_viewport_range": [
        0,
        100
       ],
       "grid_options": {
        "autoEdit": false,
        "boldIndex": true,
        "defaultColumnWidth": 150,
        "editable": true,
        "enableColumnReorder": false,
        "enableTextSelectionOnCells": true,
        "explicitInitialization": true,
        "filterable": true,
        "forceFitColumns": true,
        "fullWidthRows": true,
        "highlightSelectedCell": false,
        "highlightSelectedRow": true,
        "maxVisibleRows": 15,
        "minVisibleRows": 8,
        "rowHeight": 28,
        "sortable": true,
        "syncColumnCellResize": true
       },
       "id": "ff70f54f-6dfd-4da2-94a2-111f108cb188",
       "layout": "IPY_MODEL_16f2c8031b344c57964b9e8848e11297",
       "precision": 5,
       "show_toolbar": false
      }
     },
     "16f2c8031b344c57964b9e8848e11297": {
      "model_module": "@jupyter-widgets/base",
      "model_module_version": "1.1.0",
      "model_name": "LayoutModel",
      "state": {
       "_model_module_version": "1.1.0",
       "_view_module_version": "1.1.0"
      }
     },
     "3187519d1a6d437fbfe745ee2f8ab413": {
      "model_module": "@jupyter-widgets/base",
      "model_module_version": "1.1.0",
      "model_name": "LayoutModel",
      "state": {
       "_model_module_version": "1.1.0",
       "_view_module_version": "1.1.0"
      }
     },
     "6517d09700064018b54b1c1bfe94e1e1": {
      "model_module": "qgrid",
      "model_module_version": "1.1.1",
      "model_name": "QgridModel",
      "state": {
       "_columns": {
        "activity_id": {
         "cssClass": "string",
         "defaultSortAsc": true,
         "editable": true,
         "field": "activity_id",
         "id": "activity_id",
         "maxWidth": null,
         "minWidth": 30,
         "name": "activity_id",
         "position": 2,
         "resizable": true,
         "sortable": true,
         "toolTip": "",
         "type": "string",
         "width": null
        },
        "date_start": {
         "cssClass": "string",
         "defaultSortAsc": true,
         "editable": true,
         "field": "date_start",
         "filter_info": {
          "excluded": [],
          "field": "date_start",
          "selected": [
           0
          ],
          "type": "text"
         },
         "id": "date_start",
         "length": 208,
         "maxWidth": null,
         "minWidth": 30,
         "name": "date_start",
         "position": 10,
         "resizable": true,
         "selected_length": 0,
         "sortable": true,
         "toolTip": "",
         "type": "string",
         "value_range": [
          0,
          200
         ],
         "values": [
          "0001-01-01",
          "0001-01-15",
          "0001-01-16",
          "0001-01-17",
          "0001-07-02",
          "0002-01-01",
          "0151-01-01",
          "0151-01-16",
          "0151-07-02",
          "0276-01-01",
          "0300-01-16",
          "0301-01-16",
          "0500-01-16",
          "0700-01-16",
          "0800-01-16",
          "1000-01-16",
          "1638-01-16",
          "1700-01-16",
          "1708-01-16",
          "1850-01-01",
          "1850-01-15",
          "1850-01-16",
          "1850-01-17",
          "1850-02-01",
          "1850-02-15",
          "1850-03-16",
          "1850-04-16",
          "1850-05-16",
          "1850-06-16",
          "1850-07-02",
          "1850-07-16",
          "1850-08-16",
          "1850-09-16",
          "1850-10-16",
          "1850-11-16",
          "1850-12-16",
          "1851-01-01",
          "1851-01-16",
          "1855-01-01",
          "1855-01-16",
          "1870-01-16",
          "1890-01-16",
          "1895-01-16",
          "1900-01-15",
          "1900-07-02",
          "1901-01-01",
          "1931-07-16",
          "1932-01-16",
          "1945-01-16",
          "1948-01-01",
          "1950-01-01",
          "1950-01-02",
          "1950-01-15",
          "1950-01-16",
          "1950-07-02",
          "1951-01-01",
          "1958-01-01",
          "1958-01-16",
          "1960-01-01",
          "1960-01-16",
          "1960-11-16",
          "1961-01-01",
          "1961-01-16",
          "1961-11-16",
          "1962-01-16",
          "1962-11-16",
          "1963-01-16",
          "1963-11-16",
          "1964-01-16",
          "1964-11-16",
          "1965-01-16",
          "1965-11-16",
          "1966-01-16",
          "1966-11-16",
          "1967-01-16",
          "1967-11-16",
          "1968-01-16",
          "1968-11-16",
          "1969-01-16",
          "1969-11-16",
          "1970-01-16",
          "1970-11-16",
          "1971-01-16",
          "1971-11-16",
          "1972-01-16",
          "1972-11-16",
          "1973-01-16",
          "1973-11-16",
          "1974-01-16",
          "1974-11-16",
          "1975-01-16",
          "1975-11-16",
          "1976-01-16",
          "1976-11-16",
          "1977-01-16",
          "1977-11-16",
          "1978-01-16",
          "1978-11-16",
          "1979-01-16",
          "1979-11-16",
          "1980-01-01",
          "1980-01-16",
          "1980-11-16",
          "1981-01-16",
          "1981-11-16",
          "1982-01-16",
          "1982-11-16",
          "1983-01-16",
          "1983-11-16",
          "1984-01-16",
          "1984-11-16",
          "1985-01-16",
          "1985-11-16",
          "1986-01-16",
          "1986-11-16",
          "1987-01-16",
          "1987-11-16",
          "1988-01-16",
          "1988-11-16",
          "1989-01-16",
          "1989-11-16",
          "1990-01-16",
          "1990-11-16",
          "1991-01-16",
          "1991-11-16",
          "1992-01-16",
          "1992-11-16",
          "1993-01-16",
          "1993-11-16",
          "1994-01-16",
          "1994-11-16",
          "1995-01-16",
          "1995-11-16",
          "1996-01-16",
          "1996-11-16",
          "1997-01-16",
          "1997-11-16",
          "1998-01-16",
          "1998-11-16",
          "1999-01-16",
          "1999-11-16",
          "2000-01-01",
          "2000-01-16",
          "2000-11-16",
          "2001-01-01",
          "2001-01-16",
          "2001-11-16",
          "2002-01-16",
          "2002-11-16",
          "2003-01-16",
          "2003-11-16",
          "2004-01-16",
          "2004-11-16",
          "2005-01-16",
          "2005-11-16",
          "2006-01-16",
          "2006-11-16",
          "2007-01-16",
          "2007-11-16",
          "2008-01-16",
          "2008-11-16",
          "2009-01-16",
          "2009-11-16",
          "2010-01-16",
          "2010-11-16",
          "2011-01-16",
          "2011-11-16",
          "2012-01-16",
          "2012-11-16",
          "2013-01-16",
          "2013-11-16",
          "2014-01-16",
          "2014-11-16",
          "2015-01-01",
          "2015-01-15",
          "2015-01-16",
          "2015-07-02",
          "2015-11-16",
          "2016-01-16",
          "2016-11-16",
          "2017-01-16",
          "2017-11-16",
          "2018-11-16",
          "2025-01-01",
          "2065-01-15",
          "2259-01-16",
          "2350-01-16",
          "2401-01-01",
          "2401-01-16",
          "2450-07-02",
          "2850-01-16",
          "2850-07-02",
          "2900-01-16",
          "3030-01-16",
          "3035-01-16",
          "3150-01-16",
          "3180-01-16",
          "3200-01-16",
          "3200-07-02",
          "4150-01-16"
         ],
         "viewport_range": [
          0,
          200
         ],
         "width": null
        },
        "date_stop": {
         "cssClass": "string",
         "defaultSortAsc": true,
         "editable": true,
         "field": "date_stop",
         "id": "date_stop",
         "maxWidth": null,
         "minWidth": 30,
         "name": "date_stop",
         "position": 11,
         "resizable": true,
         "sortable": true,
         "toolTip": "",
         "type": "string",
         "width": null
        },
        "experiment_id": {
         "cssClass": "string",
         "defaultSortAsc": true,
         "editable": true,
         "field": "experiment_id",
         "id": "experiment_id",
         "maxWidth": null,
         "minWidth": 30,
         "name": "experiment_id",
         "position": 4,
         "resizable": true,
         "sortable": true,
         "toolTip": "",
         "type": "string",
         "width": null
        },
        "grid_label": {
         "cssClass": "string",
         "defaultSortAsc": true,
         "editable": true,
         "field": "grid_label",
         "id": "grid_label",
         "maxWidth": null,
         "minWidth": 30,
         "name": "grid_label",
         "position": 8,
         "resizable": true,
         "sortable": true,
         "toolTip": "",
         "type": "string",
         "width": null
        },
        "index": {
         "cssClass": "integer",
         "defaultSortAsc": true,
         "editable": true,
         "field": "index",
         "first_index": true,
         "id": "index",
         "index_display_text": "",
         "is_index": true,
         "level": 0,
         "maxWidth": null,
         "minWidth": 30,
         "name": "index",
         "position": 0,
         "resizable": true,
         "sortable": true,
         "toolTip": "",
         "type": "integer",
         "width": null
        },
        "member_id": {
         "cssClass": "string",
         "defaultSortAsc": true,
         "editable": true,
         "field": "member_id",
         "id": "member_id",
         "maxWidth": null,
         "minWidth": 30,
         "name": "member_id",
         "position": 5,
         "resizable": true,
         "sortable": true,
         "toolTip": "",
         "type": "string",
         "width": null
        },
        "qgrid_unfiltered_index": {
         "cssClass": "integer",
         "defaultSortAsc": true,
         "editable": true,
         "field": "qgrid_unfiltered_index",
         "id": "qgrid_unfiltered_index",
         "maxWidth": null,
         "minWidth": 30,
         "name": "qgrid_unfiltered_index",
         "position": 1,
         "resizable": true,
         "sortable": true,
         "toolTip": "",
         "type": "integer",
         "width": null
        },
        "sizeG": {
         "cssClass": "number",
         "defaultSortAsc": true,
         "editable": true,
         "field": "sizeG",
         "filter_info": {
          "field": "sizeG",
          "max": 23.5,
          "min": null,
          "type": "slider"
         },
         "id": "sizeG",
         "maxWidth": null,
         "minWidth": 30,
         "name": "sizeG",
         "position": 13,
         "resizable": true,
         "slider_max": 575,
         "slider_min": 23.5,
         "sortable": true,
         "toolTip": "",
         "type": "number",
         "width": null
        },
        "source_id": {
         "cssClass": "string",
         "defaultSortAsc": true,
         "editable": true,
         "field": "source_id",
         "id": "source_id",
         "maxWidth": null,
         "minWidth": 30,
         "name": "source_id",
         "position": 3,
         "resizable": true,
         "sortable": true,
         "toolTip": "",
         "type": "string",
         "width": null
        },
        "table_id": {
         "cssClass": "string",
         "defaultSortAsc": true,
         "editable": true,
         "field": "table_id",
         "id": "table_id",
         "maxWidth": null,
         "minWidth": 30,
         "name": "table_id",
         "position": 6,
         "resizable": true,
         "sortable": true,
         "toolTip": "",
         "type": "string",
         "width": null
        },
        "time_len": {
         "cssClass": "number",
         "defaultSortAsc": true,
         "editable": true,
         "field": "time_len",
         "id": "time_len",
         "maxWidth": null,
         "minWidth": 30,
         "name": "time_len",
         "position": 12,
         "resizable": true,
         "sortable": true,
         "toolTip": "",
         "type": "number",
         "width": null
        },
        "variable_id": {
         "cssClass": "string",
         "defaultSortAsc": true,
         "editable": true,
         "field": "variable_id",
         "id": "variable_id",
         "maxWidth": null,
         "minWidth": 30,
         "name": "variable_id",
         "position": 7,
         "resizable": true,
         "sortable": true,
         "toolTip": "",
         "type": "string",
         "width": null
        },
        "zstore": {
         "cssClass": "string",
         "defaultSortAsc": true,
         "editable": true,
         "field": "zstore",
         "id": "zstore",
         "maxWidth": null,
         "minWidth": 30,
         "name": "zstore",
         "position": 9,
         "resizable": true,
         "sortable": true,
         "toolTip": "",
         "type": "string",
         "width": null
        }
       },
       "_df_json": "{\"schema\": {\"fields\":[{\"name\":\"index\",\"type\":\"integer\"},{\"name\":\"qgrid_unfiltered_index\",\"type\":\"integer\"},{\"name\":\"activity_id\",\"type\":\"string\"},{\"name\":\"source_id\",\"type\":\"string\"},{\"name\":\"experiment_id\",\"type\":\"string\"},{\"name\":\"member_id\",\"type\":\"string\"},{\"name\":\"table_id\",\"type\":\"string\"},{\"name\":\"variable_id\",\"type\":\"string\"},{\"name\":\"grid_label\",\"type\":\"string\"},{\"name\":\"zstore\",\"type\":\"string\"},{\"name\":\"date_start\",\"type\":\"string\"},{\"name\":\"date_stop\",\"type\":\"string\"},{\"name\":\"time_len\",\"type\":\"number\"},{\"name\":\"sizeG\",\"type\":\"number\"},{\"name\":\"date_start_qgrid_sort_column\",\"type\":\"string\"}],\"primaryKey\":[\"index\"],\"pandas_version\":\"0.20.0\"}, \"data\": [{\"index\":16758,\"qgrid_unfiltered_index\":16758,\"activity_id\":\"CMIP\",\"source_id\":\"GFDL-ESM4\",\"experiment_id\":\"piControl\",\"member_id\":\"r1i1p1f1\",\"table_id\":\"day\",\"variable_id\":\"tasmax\",\"grid_label\":\"gr1\",\"zstore\":\"gs:\\/\\/cmip6\\/CMIP\\/NOAA-GFDL\\/GFDL-ESM4\\/piControl\\/r1i1p1f1\\/day\\/tasmax\\/gr1\\/\",\"date_start\":\"0001-01-01\",\"date_stop\":\"0500-12-31\",\"time_len\":182500.0,\"sizeG\":23.5,\"date_start_qgrid_sort_column\":\"0001-01-01\"}]}",
       "_df_range": [
        0,
        100
       ],
       "_editable_rows": {},
       "_index_col_name": "qgrid_unfiltered_index",
       "_interval_columns": [],
       "_model_module_version": "1.1.1",
       "_multi_index": false,
       "_row_count": 1,
       "_row_styles": {},
       "_sort_ascending": false,
       "_sort_field": "sizeG",
       "_view_module_version": "1.1.1",
       "_viewport_range": [
        0,
        17
       ],
       "grid_options": {
        "autoEdit": false,
        "boldIndex": true,
        "defaultColumnWidth": 150,
        "editable": true,
        "enableColumnReorder": false,
        "enableTextSelectionOnCells": true,
        "explicitInitialization": true,
        "filterable": true,
        "forceFitColumns": true,
        "fullWidthRows": true,
        "highlightSelectedCell": false,
        "highlightSelectedRow": true,
        "maxVisibleRows": 15,
        "minVisibleRows": 8,
        "rowHeight": 28,
        "sortable": true,
        "syncColumnCellResize": true
       },
       "id": "8270be16-799c-4c62-98bb-c321a013ea52",
       "layout": "IPY_MODEL_04377bfd59f040cd8ee575c4ffb16c43",
       "precision": 5,
       "show_toolbar": false
      }
     },
     "75d5f0b83d714631bdc65be6a81c6b38": {
      "model_module": "qgrid",
      "model_module_version": "1.1.1",
      "model_name": "QgridModel",
      "state": {
       "_columns": {
        "aerosol_model": {
         "cssClass": "string",
         "defaultSortAsc": true,
         "editable": true,
         "field": "aerosol_model",
         "id": "aerosol_model",
         "minWidth": 30,
         "name": "aerosol_model",
         "position": 9,
         "resizable": true,
         "sortable": true,
         "toolTip": "",
         "type": "string"
        },
        "atmosChem_model": {
         "cssClass": "string",
         "defaultSortAsc": true,
         "editable": true,
         "field": "atmosChem_model",
         "id": "atmosChem_model",
         "minWidth": 30,
         "name": "atmosChem_model",
         "position": 10,
         "resizable": true,
         "sortable": true,
         "toolTip": "",
         "type": "string"
        },
        "atmos_model": {
         "cssClass": "string",
         "defaultSortAsc": true,
         "editable": true,
         "field": "atmos_model",
         "id": "atmos_model",
         "minWidth": 30,
         "name": "atmos_model",
         "position": 5,
         "resizable": true,
         "sortable": true,
         "toolTip": "",
         "type": "string"
        },
        "index": {
         "cssClass": "integer first-idx-col idx-col",
         "defaultSortAsc": true,
         "editable": true,
         "field": "index",
         "first_index": true,
         "id": "index",
         "index_display_text": "",
         "is_index": true,
         "level": 0,
         "minWidth": 30,
         "name": "",
         "position": 0,
         "resizable": true,
         "sortable": true,
         "toolTip": "",
         "type": "integer"
        },
        "institution_id": {
         "cssClass": "string",
         "defaultSortAsc": true,
         "editable": true,
         "field": "institution_id",
         "id": "institution_id",
         "minWidth": 30,
         "name": "institution_id",
         "position": 3,
         "resizable": true,
         "sortable": true,
         "toolTip": "",
         "type": "string"
        },
        "landIce_model": {
         "cssClass": "string",
         "defaultSortAsc": true,
         "editable": true,
         "field": "landIce_model",
         "id": "landIce_model",
         "minWidth": 30,
         "name": "landIce_model",
         "position": 12,
         "resizable": true,
         "sortable": true,
         "toolTip": "",
         "type": "string"
        },
        "land_model": {
         "cssClass": "string",
         "defaultSortAsc": true,
         "editable": true,
         "field": "land_model",
         "id": "land_model",
         "minWidth": 30,
         "name": "land_model",
         "position": 7,
         "resizable": true,
         "sortable": true,
         "toolTip": "",
         "type": "string"
        },
        "ocean_model": {
         "cssClass": "string",
         "defaultSortAsc": true,
         "editable": true,
         "field": "ocean_model",
         "id": "ocean_model",
         "minWidth": 30,
         "name": "ocean_model",
         "position": 6,
         "resizable": true,
         "sortable": true,
         "toolTip": "",
         "type": "string"
        },
        "ocnBgchem_model": {
         "cssClass": "string",
         "defaultSortAsc": true,
         "editable": true,
         "field": "ocnBgchem_model",
         "id": "ocnBgchem_model",
         "minWidth": 30,
         "name": "ocnBgchem_model",
         "position": 8,
         "resizable": true,
         "sortable": true,
         "toolTip": "",
         "type": "string"
        },
        "qgrid_unfiltered_index": {
         "cssClass": "integer",
         "defaultSortAsc": true,
         "editable": true,
         "field": "qgrid_unfiltered_index",
         "id": "qgrid_unfiltered_index",
         "maxWidth": null,
         "minWidth": 30,
         "name": "qgrid_unfiltered_index",
         "position": 1,
         "resizable": true,
         "sortable": true,
         "toolTip": "",
         "type": "integer",
         "width": null
        },
        "release_year": {
         "cssClass": "integer",
         "defaultSortAsc": true,
         "editable": true,
         "field": "release_year",
         "id": "release_year",
         "minWidth": 30,
         "name": "release_year",
         "position": 4,
         "resizable": true,
         "sortable": true,
         "toolTip": "",
         "type": "integer"
        },
        "seaIce_model": {
         "cssClass": "string",
         "defaultSortAsc": true,
         "editable": true,
         "field": "seaIce_model",
         "id": "seaIce_model",
         "minWidth": 30,
         "name": "seaIce_model",
         "position": 11,
         "resizable": true,
         "sortable": true,
         "toolTip": "",
         "type": "string"
        },
        "source_id": {
         "cssClass": "string",
         "defaultSortAsc": true,
         "editable": true,
         "field": "source_id",
         "id": "source_id",
         "minWidth": 30,
         "name": "source_id",
         "position": 2,
         "resizable": true,
         "sortable": true,
         "toolTip": "",
         "type": "string"
        }
       },
       "_df_json": "{\"schema\": {\"fields\":[{\"name\":\"index\",\"type\":\"integer\"},{\"name\":\"qgrid_unfiltered_index\",\"type\":\"integer\"},{\"name\":\"source_id\",\"type\":\"string\"},{\"name\":\"institution_id\",\"type\":\"string\"},{\"name\":\"release_year\",\"type\":\"integer\"},{\"name\":\"atmos_model\",\"type\":\"string\"},{\"name\":\"ocean_model\",\"type\":\"string\"},{\"name\":\"land_model\",\"type\":\"string\"},{\"name\":\"ocnBgchem_model\",\"type\":\"string\"},{\"name\":\"aerosol_model\",\"type\":\"string\"},{\"name\":\"atmosChem_model\",\"type\":\"string\"},{\"name\":\"seaIce_model\",\"type\":\"string\"},{\"name\":\"landIce_model\",\"type\":\"string\"}],\"primaryKey\":[\"index\"],\"pandas_version\":\"0.20.0\"}, \"data\": [{\"index\":0,\"qgrid_unfiltered_index\":0,\"source_id\":\"ACCESS-CM2\",\"institution_id\":\"CSIRO-ARCCSS-BoM\",\"release_year\":2018,\"atmos_model\":\"MetUM-HadGEM3-GA7.1 (N96; 192 x 144 longitude\\/latitude; 85 levels; top level 85 km)\",\"ocean_model\":\"ACCESS-OM2 (GFDL-MOM5, tripolar primarily 1deg; 360 x 300 longitude\\/latitude; 50 levels; top grid cell 0-10 m)\",\"land_model\":\"CABLE2.3.5\",\"ocnBgchem_model\":\"none\",\"aerosol_model\":\"UKCA-GLOMAP-mode\",\"atmosChem_model\":\"none\",\"seaIce_model\":\"CICE5.1 (same grid as ocean)\",\"landIce_model\":\"none\"},{\"index\":1,\"qgrid_unfiltered_index\":1,\"source_id\":\"ACCESS-ESM1-5\",\"institution_id\":\"CSIRO\",\"release_year\":2018,\"atmos_model\":\"HadGAM2 (r1.1, N96; 192 x 145 longitude\\/latitude; 38 levels; top level 39255 m)\",\"ocean_model\":\"ACCESS-OM2 (MOM5, tripolar primarily 1deg; 360 x 300 longitude\\/latitude; 50 levels; top grid cell 0-10 m)\",\"land_model\":\"CABLE2.2.3\",\"ocnBgchem_model\":\"WOMBAT1.0 (same grid as ocean)\",\"aerosol_model\":\"CLASSIC (v1.0)\",\"atmosChem_model\":\"none\",\"seaIce_model\":\"CICE5.1 (same grid as ocean)\",\"landIce_model\":\"none\"},{\"index\":2,\"qgrid_unfiltered_index\":2,\"source_id\":\"AWI-CM-1-1-HR\",\"institution_id\":\"AWI\",\"release_year\":2018,\"atmos_model\":\"ECHAM6.3.04p1 (T127L95 native atmosphere T127 gaussian grid; 384 x 192 longitude\\/latitude; 95 levels; top level 80 km)\",\"ocean_model\":\"FESOM 1.4 (unstructured grid in the horizontal with 1306775 wet nodes; 46 levels; top grid cell 0-5 m)\",\"land_model\":\"JSBACH 3.20\",\"ocnBgchem_model\":\"none\",\"aerosol_model\":\"none\",\"atmosChem_model\":\"none\",\"seaIce_model\":\"FESOM 1.4\",\"landIce_model\":\"none\"},{\"index\":3,\"qgrid_unfiltered_index\":3,\"source_id\":\"AWI-CM-1-1-LR\",\"institution_id\":\"AWI\",\"release_year\":2018,\"atmos_model\":\"ECHAM6.3.04p1 (T63L47 native atmosphere T63 gaussian grid; 192 x 96 longitude\\/latitude; 47 levels; top level 80 km)\",\"ocean_model\":\"FESOM 1.4 (unstructured grid in the horizontal with 126859 wet nodes; 46 levels; top grid cell 0-5 m)\",\"land_model\":\"JSBACH 3.20\",\"ocnBgchem_model\":\"none\",\"aerosol_model\":\"none\",\"atmosChem_model\":\"none\",\"seaIce_model\":\"FESOM 1.4\",\"landIce_model\":\"none\"},{\"index\":4,\"qgrid_unfiltered_index\":4,\"source_id\":\"AWI-CM-1-1-MR\",\"institution_id\":\"AWI\",\"release_year\":2018,\"atmos_model\":\"ECHAM6.3.04p1 (T127L95 native atmosphere T127 gaussian grid; 384 x 192 longitude\\/latitude; 95 levels; top level 80 km)\",\"ocean_model\":\"FESOM 1.4 (unstructured grid in the horizontal with 830305 wet nodes; 46 levels; top grid cell 0-5 m)\",\"land_model\":\"JSBACH 3.20\",\"ocnBgchem_model\":\"none\",\"aerosol_model\":\"none\",\"atmosChem_model\":\"none\",\"seaIce_model\":\"FESOM 1.4\",\"landIce_model\":\"none\"},{\"index\":5,\"qgrid_unfiltered_index\":5,\"source_id\":\"AWI-ESM-1-1-LR\",\"institution_id\":\"AWI\",\"release_year\":2018,\"atmos_model\":\"ECHAM6.3.04p1 (T63L47 native atmosphere T63 gaussian grid; 192 x 96 longitude\\/latitude; 47 levels; top level 80 km)\",\"ocean_model\":\"FESOM 1.4 (unstructured grid in the horizontal with 126859 wet nodes; 46 levels; top grid cell 0-5 m)\",\"land_model\":\"JSBACH 3.20 with dynamic vegetation\",\"ocnBgchem_model\":\"none\",\"aerosol_model\":\"none\",\"atmosChem_model\":\"none\",\"seaIce_model\":\"FESOM 1.4\",\"landIce_model\":\"none\"},{\"index\":6,\"qgrid_unfiltered_index\":6,\"source_id\":\"AWI-ESM-2-1-LR\",\"institution_id\":\"AWI\",\"release_year\":2019,\"atmos_model\":\"ECHAM6.3.04p1 (T63L47 native atmosphere T63 gaussian grid; 192 x 96 longitude\\/latitude; 47 levels; top level 80 km)\",\"ocean_model\":\"FESOM 2 (unstructured grid in the horizontal with 126858 wet nodes; 48 levels; top grid cell 0-5 m)\",\"land_model\":\"JSBACH 3.20 with dynamic vegetation\",\"ocnBgchem_model\":\"none\",\"aerosol_model\":\"none\",\"atmosChem_model\":\"none\",\"seaIce_model\":\"FESOM 2\",\"landIce_model\":\"none\"},{\"index\":7,\"qgrid_unfiltered_index\":7,\"source_id\":\"BCC-CSM2-HR\",\"institution_id\":\"BCC\",\"release_year\":2017,\"atmos_model\":\"BCC_AGCM3_HR (T266; 800 x 400 longitude\\/latitude; 56 levels; top level 0.1 hPa)\",\"ocean_model\":\"MOM4 (1\\/3 deg 10S-10N, 1\\/3-1 deg 10-30 N\\/S, and 1 deg in high latitudes; 360 x 232 longitude\\/latitude; 40 levels; top grid cell 0-10 m)\",\"land_model\":\"BCC_AVIM2\",\"ocnBgchem_model\":\"none\",\"aerosol_model\":\"none\",\"atmosChem_model\":\"none\",\"seaIce_model\":\"SIS2\",\"landIce_model\":\"none\"},{\"index\":8,\"qgrid_unfiltered_index\":8,\"source_id\":\"BCC-CSM2-MR\",\"institution_id\":\"BCC\",\"release_year\":2017,\"atmos_model\":\"BCC_AGCM3_MR (T106; 320 x 160 longitude\\/latitude; 46 levels; top level 1.46 hPa)\",\"ocean_model\":\"MOM4 (1\\/3 deg 10S-10N, 1\\/3-1 deg 10-30 N\\/S, and 1 deg in high latitudes; 360 x 232 longitude\\/latitude; 40 levels; top grid cell 0-10 m)\",\"land_model\":\"BCC_AVIM2\",\"ocnBgchem_model\":\"none\",\"aerosol_model\":\"none\",\"atmosChem_model\":\"none\",\"seaIce_model\":\"SIS2\",\"landIce_model\":\"none\"},{\"index\":9,\"qgrid_unfiltered_index\":9,\"source_id\":\"BCC-ESM1\",\"institution_id\":\"BCC\",\"release_year\":2017,\"atmos_model\":\"BCC_AGCM3_LR (T42; 128 x 64 longitude\\/latitude; 26 levels; top level 2.19 hPa)\",\"ocean_model\":\"MOM4 (1\\/3 deg 10S-10N, 1\\/3-1 deg 10-30 N\\/S, and 1 deg in high latitudes; 360 x 232 longitude\\/latitude; 40 levels; top grid cell 0-10 m)\",\"land_model\":\"BCC_AVIM2\",\"ocnBgchem_model\":\"none\",\"aerosol_model\":\"none\",\"atmosChem_model\":\"BCC-AGCM3-Chem\",\"seaIce_model\":\"SIS2\",\"landIce_model\":\"none\"},{\"index\":10,\"qgrid_unfiltered_index\":10,\"source_id\":\"BESM-2-9\",\"institution_id\":\"INPE\",\"release_year\":2019,\"atmos_model\":\"BAM (v1.0, T062L42; 192 x 96 longitude\\/latitude; 42 levels; top level 3 hPa)\",\"ocean_model\":\"MOM-5 (MOM5, tripolar, primarily 1 deg, 1\\/4 deg between 22.5S-22.5N, downgrading from 1\\/4 deg at 22.5N(S) to 1 deg at 45N(S), 1 deg between 22.5N(S) and 45N(S), upgrading from 1 deg at 45N(S) to 0.5 deg at 90N(S) ; 360 x 192 longitude\\/latitude; 50 levels; top grid cell 0-10 m)\",\"land_model\":\"SSiB 2.0\",\"ocnBgchem_model\":\"TOPAZ 2.0\",\"aerosol_model\":\"none\",\"atmosChem_model\":\"none\",\"seaIce_model\":\"SIS 1.0\",\"landIce_model\":\"none\"},{\"index\":11,\"qgrid_unfiltered_index\":11,\"source_id\":\"BNU-ESM-1-1\",\"institution_id\":\"BNU\",\"release_year\":2016,\"atmos_model\":\"CAM4 (2deg; 144 x 96 longitude\\/latitude; 26 levels; top level 2.194 mb)\",\"ocean_model\":\"MOM4p1 (tripolar, primarily 1deg latitude\\/longitude, down to 1\\/3deg within 30deg of the equatorial tropics; 360 x 200 longitude\\/latitude; 50 levels; top grid cell 0-10 m)\",\"land_model\":\"CoLM version 2014 with carbon-nitrogen interactions\",\"ocnBgchem_model\":\"Dynamic ecosystem-carbon model version 1\",\"aerosol_model\":\"CAM-chem; semi-interactive\",\"atmosChem_model\":\"none\",\"seaIce_model\":\"CICE4.1\",\"landIce_model\":\"none\"},{\"index\":12,\"qgrid_unfiltered_index\":12,\"source_id\":\"CAMS-CSM1-0\",\"institution_id\":\"CAMS\",\"release_year\":2016,\"atmos_model\":\"ECHAM5_CAMS (T106; 320 x 160 longitude\\/latitude; 31 levels; top level 10 mb)\",\"ocean_model\":\"MOM4 (tripolar; 360 x 200 longitude\\/latitude, primarily 1deg latitude\\/longitude, down to 1\\/3deg within 30deg of the equatorial tropics; 50 levels; top grid cell 0-10 m)\",\"land_model\":\"CoLM 1.0\",\"ocnBgchem_model\":\"none\",\"aerosol_model\":\"none\",\"atmosChem_model\":\"none\",\"seaIce_model\":\"SIS 1.0\",\"landIce_model\":\"none\"},{\"index\":13,\"qgrid_unfiltered_index\":13,\"source_id\":\"CanESM5\",\"institution_id\":\"CCCma\",\"release_year\":2019,\"atmos_model\":\"CanAM5 (T63L49 native atmosphere, T63 Linear Gaussian Grid; 128 x 64 longitude\\/latitude; 49 levels; top level 1 hPa)\",\"ocean_model\":\"NEMO3.4.1 (ORCA1 tripolar grid, 1 deg with refinement to 1\\/3 deg within 20 degrees of the equator; 361 x 290 longitude\\/latitude; 45 vertical levels; top grid cell 0-6.19 m)\",\"land_model\":\"CLASS3.6\\/CTEM1.2\",\"ocnBgchem_model\":\"Canadian Model of Ocean Carbon (CMOC); NPZD ecosystem with OMIP prescribed carbonate chemistry\",\"aerosol_model\":\"interactive\",\"atmosChem_model\":\"specified oxidants for aerosols\",\"seaIce_model\":\"LIM2\",\"landIce_model\":\"specified ice sheets\"},{\"index\":14,\"qgrid_unfiltered_index\":14,\"source_id\":\"CanESM5-CanOE\",\"institution_id\":\"CCCma\",\"release_year\":2019,\"atmos_model\":\"CanAM5 (T63L49 native atmosphere, T63 Linear Gaussian Grid; 128 x 64 longitude\\/latitude; 49 levels; top level 1 hPa)\",\"ocean_model\":\"NEMO3.4.1 (ORCA1 tripolar grid, 1 deg with refinement to 1\\/3 deg within 20 degrees of the equator; 361 x 290 longitude\\/latitude; 45 vertical levels; top grid cell 0-6.19 m)\",\"land_model\":\"CLASS3.6\\/CTEM1.2\",\"ocnBgchem_model\":\"Canadian Ocean Ecosystem (CanOE) with OMIP prescribed carbon chemistry\",\"aerosol_model\":\"interactive\",\"atmosChem_model\":\"specified oxidants for aerosols\",\"seaIce_model\":\"LIM2\",\"landIce_model\":\"specified ice sheets\"},{\"index\":15,\"qgrid_unfiltered_index\":15,\"source_id\":\"CAS-ESM1-0\",\"institution_id\":\"CAS\",\"release_year\":2015,\"atmos_model\":\"IAP AGCM4.1 (Finite difference dynamical core; 256 x 128 longitude\\/latitude; 30 levels; top level 2.2 hPa)\",\"ocean_model\":\"LICOM2.0 (LICOM2.0, primarily 1deg; 362 x 196 longitude\\/latitude; 30 levels; top grid cell 0-10 m)\",\"land_model\":\"CoLM\",\"ocnBgchem_model\":\"IAP OBGCM\",\"aerosol_model\":\"IAP AACM\",\"atmosChem_model\":\"IAP AACM\",\"seaIce_model\":\"CICE4\",\"landIce_model\":\"none\"},{\"index\":16,\"qgrid_unfiltered_index\":16,\"source_id\":\"CESM2\",\"institution_id\":\"NCAR\",\"release_year\":2018,\"atmos_model\":\"CAM6 (0.9x1.25 finite volume grid; 288 x 192 longitude\\/latitude; 32 levels; top level 2.25 mb)\",\"ocean_model\":\"POP2 (320x384 longitude\\/latitude; 60 levels; top grid cell 0-10 m)\",\"land_model\":\"CLM5 (same grid as atmos)\",\"ocnBgchem_model\":\"MARBL (same grid as ocean)\",\"aerosol_model\":\"MAM4 (same grid as atmos)\",\"atmosChem_model\":\"MAM4 (same grid as atmos)\",\"seaIce_model\":\"CICE5.1 (same grid as ocean)\",\"landIce_model\":\"CISM2.1\"},{\"index\":17,\"qgrid_unfiltered_index\":17,\"source_id\":\"CESM2-FV2\",\"institution_id\":\"NCAR\",\"release_year\":2019,\"atmos_model\":\"CAM6 (1.9x2.5 finite volume grid; 144 x 96 longitude\\/latitude; 32 levels; top level 2.25 mb)\",\"ocean_model\":\"POP2 (320x384 longitude\\/latitude; 60 levels; top grid cell 0-10 m)\",\"land_model\":\"CLM5 (same grid as atmos)\",\"ocnBgchem_model\":\"MARBL (same grid as ocean)\",\"aerosol_model\":\"MAM4 (same grid as atmos)\",\"atmosChem_model\":\"MAM4 (same grid as atmos)\",\"seaIce_model\":\"CICE5.1 (same grid as ocean)\",\"landIce_model\":\"CISM2.1\"},{\"index\":18,\"qgrid_unfiltered_index\":18,\"source_id\":\"CESM2-SE\",\"institution_id\":\"NCAR\",\"release_year\":2019,\"atmos_model\":\"CAM6 (0.25 degree spectral element; 777602 cells; 30 levels; top level 2.25 mb)\",\"ocean_model\":\"POP2 (320 x 384 longitude\\/latitude; 60 levels; top grid cell 0-10 m)\",\"land_model\":\"CLM5 (same grid as atmos)\",\"ocnBgchem_model\":\"MARBL (same grid as ocean)\",\"aerosol_model\":\"MAM4 (same grid as atmos)\",\"atmosChem_model\":\"MAM4 (same grid as atmos)\",\"seaIce_model\":\"CICE5.1 (same grid as ocean)\",\"landIce_model\":\"CISM2.1\"},{\"index\":19,\"qgrid_unfiltered_index\":19,\"source_id\":\"CESM2-WACCM\",\"institution_id\":\"NCAR\",\"release_year\":2018,\"atmos_model\":\"WACCM6 (0.9x1.25 finite volume grid; 288 x 192 longitude\\/latitude; 70 levels; top level 4.5e-06 mb)\",\"ocean_model\":\"POP2 (320 x 384 longitude\\/latitude; 60 levels; top grid cell 0-10 m)\",\"land_model\":\"CLM5 (same grid as atmos)\",\"ocnBgchem_model\":\"MARBL (same grid as ocean)\",\"aerosol_model\":\"MAM4 (same grid as atmos)\",\"atmosChem_model\":\"MAM4 (same grid as atmos)\",\"seaIce_model\":\"CICE5.1 (same grid as ocean)\",\"landIce_model\":\"CISM2.1\"},{\"index\":20,\"qgrid_unfiltered_index\":20,\"source_id\":\"CESM2-WACCM-FV2\",\"institution_id\":\"NCAR\",\"release_year\":2019,\"atmos_model\":\"WACCM6 (1.9x2.5 finite volume grid; 144 x 96 longitude\\/latitude; 70 levels; top level 4.5e-06 mb)\",\"ocean_model\":\"POP2 (320x384 longitude\\/latitude; 60 levels; top grid cell 0-10 m)\",\"land_model\":\"CLM5 (same grid as atmos)\",\"ocnBgchem_model\":\"MARBL (same grid as ocean)\",\"aerosol_model\":\"MAM4 (same grid as atmos)\",\"atmosChem_model\":\"MAM4 (same grid as atmos)\",\"seaIce_model\":\"CICE5.1 (same grid as ocean)\",\"landIce_model\":\"CISM2.1\"},{\"index\":21,\"qgrid_unfiltered_index\":21,\"source_id\":\"CIESM\",\"institution_id\":\"THU\",\"release_year\":2017,\"atmos_model\":\"CIESM-AM (FV\\/FD; 288 x 192 longitude\\/latitude; 30 levels; top level 2.255 hPa)\",\"ocean_model\":\"CIESM-OM (FD, SCCGrid Displaced Pole; 720 x 560 longitude\\/latitude; 46 levels; top grid cell 0-6 m)\",\"land_model\":\"CIESM-LM (modified CLM4.5)\",\"ocnBgchem_model\":\"none\",\"aerosol_model\":\"MAM4\",\"atmosChem_model\":\"trop_mam4\",\"seaIce_model\":\"CICE4\",\"landIce_model\":\"none\"},{\"index\":22,\"qgrid_unfiltered_index\":22,\"source_id\":\"CMCC-CM2-HR4\",\"institution_id\":\"CMCC\",\"release_year\":2016,\"atmos_model\":\"CAM4 (1deg; 288 x 192 longitude\\/latitude; 26 levels; top at ~2 hPa)\",\"ocean_model\":\"NEMO3.6 (ORCA0.25 1\\/4 deg from the Equator degrading at the poles; 1442 x 1051 longitude\\/latitude; 50 vertical levels; top grid cell 0-1 m)\",\"land_model\":\"CLM4.5 (SP mode)\",\"ocnBgchem_model\":\"none\",\"aerosol_model\":\"prescribed MACv2-SP\",\"atmosChem_model\":\"none\",\"seaIce_model\":\"CICE4.0\",\"landIce_model\":\"none\"},{\"index\":23,\"qgrid_unfiltered_index\":23,\"source_id\":\"CMCC-CM2-HR5\",\"institution_id\":\"CMCC\",\"release_year\":2017,\"atmos_model\":\"CAM5.3 (1deg; 288 x 192 longitude\\/latitude; 30 levels; top at ~2 hPa)\",\"ocean_model\":\"NEMO3.6 (ORCA0.25 1\\/4 deg from the Equator degrading at the poles; 1442 x 1051 longitude\\/latitude; 50 vertical levels; top grid cell 0-1 m)\",\"land_model\":\"CLM4.5 (BGC mode)\",\"ocnBgchem_model\":\"none\",\"aerosol_model\":\"MAM3\",\"atmosChem_model\":\"none\",\"seaIce_model\":\"CICE4.0\",\"landIce_model\":\"none\"},{\"index\":24,\"qgrid_unfiltered_index\":24,\"source_id\":\"CMCC-CM2-SR5\",\"institution_id\":\"CMCC\",\"release_year\":2016,\"atmos_model\":\"CAM5.3 (1deg; 288 x 192 longitude\\/latitude; 30 levels; top at ~2 hPa)\",\"ocean_model\":\"NEMO3.6 (ORCA1 tripolar primarly 1 deg lat\\/lon with meridional refinement down to 1\\/3 degree in the tropics; 362 x 292 longitude\\/latitude; 50 vertical levels; top grid cell 0-1 m)\",\"land_model\":\"CLM4.5 (BGC mode)\",\"ocnBgchem_model\":\"none\",\"aerosol_model\":\"MAM3\",\"atmosChem_model\":\"none\",\"seaIce_model\":\"CICE4.0\",\"landIce_model\":\"none\"},{\"index\":25,\"qgrid_unfiltered_index\":25,\"source_id\":\"CMCC-CM2-VHR4\",\"institution_id\":\"CMCC\",\"release_year\":2017,\"atmos_model\":\"CAM4 (1\\/4deg; 1152 x 768 longitude\\/latitude; 26 levels; top at ~2 hPa)\",\"ocean_model\":\"NEMO3.6 (ORCA0.25 1\\/4 deg from the Equator degrading at the poles; 1442 x 1051 longitude\\/latitude; 50 vertical levels; top grid cell 0-1 m)\",\"land_model\":\"CLM4.5 (SP mode)\",\"ocnBgchem_model\":\"none\",\"aerosol_model\":\"prescribed MACv2-SP\",\"atmosChem_model\":\"none\",\"seaIce_model\":\"CICE4.0\",\"landIce_model\":\"none\"},{\"index\":26,\"qgrid_unfiltered_index\":26,\"source_id\":\"CMCC-ESM2-HR5\",\"institution_id\":\"CMCC\",\"release_year\":2017,\"atmos_model\":\"CAM5.3 (1deg; 288 x 192 longitude\\/latitude; 30 levels; top at ~2 hPa)\",\"ocean_model\":\"NEMO3.6 (ORCA0.25 1\\/4 deg from the Equator degrading at the poles; 1442 x 1051 longitude\\/latitude; 50 vertical levels; top grid cell 0-1 m)\",\"land_model\":\"CLM4.5 (BGC mode)\",\"ocnBgchem_model\":\"BFM5.1\",\"aerosol_model\":\"MAM3\",\"atmosChem_model\":\"none\",\"seaIce_model\":\"CICE4.0\",\"landIce_model\":\"none\"},{\"index\":27,\"qgrid_unfiltered_index\":27,\"source_id\":\"CMCC-ESM2-SR5\",\"institution_id\":\"CMCC\",\"release_year\":2017,\"atmos_model\":\"CAM5.3 (1deg; 288 x 192 longitude\\/latitude; 30 levels; top at ~2 hPa)\",\"ocean_model\":\"NEMO3.6 (ORCA1 tripolar primarly 1 deg lat\\/lon with meridional refinement down to 1\\/3 degree in the tropics; 362 x 292 longitude\\/latitude; 50 vertical levels; top grid cell 0-1 m)\",\"land_model\":\"CLM4.5 (BGC mode)\",\"ocnBgchem_model\":\"BFM5.1\",\"aerosol_model\":\"MAM3\",\"atmosChem_model\":\"none\",\"seaIce_model\":\"CICE4.0\",\"landIce_model\":\"none\"},{\"index\":28,\"qgrid_unfiltered_index\":28,\"source_id\":\"CNRM-CM6-1\",\"institution_id\":\"CNRM-CERFACS\",\"release_year\":2017,\"atmos_model\":\"Arpege 6.3 (T127; Gaussian Reduced with 24572 grid points in total distributed over 128 latitude circles (with 256 grid points per latitude circle between 30degN and 30degS reducing to 20 grid points per latitude circle at 88.9degN and 88.9degS); 91 levels; top level 78.4 km)\",\"ocean_model\":\"Nemo 3.6 (eORCA1, tripolar primarily 1deg; 362 x 294 longitude\\/latitude; 75 levels; top grid cell 0-1 m)\",\"land_model\":\"Surfex 8.0c\",\"ocnBgchem_model\":\"none\",\"aerosol_model\":\"prescribed monthly fields computed by TACTIC_v2 scheme\",\"atmosChem_model\":\"OZL_v2\",\"seaIce_model\":\"Gelato 6.1\",\"landIce_model\":\"none\"},{\"index\":29,\"qgrid_unfiltered_index\":29,\"source_id\":\"CNRM-CM6-1-HR\",\"institution_id\":\"CNRM-CERFACS\",\"release_year\":2017,\"atmos_model\":\"Arpege 6.3 (T359; Gaussian Reduced with 181724 grid points in total distributed over 360 latitude circles (with 720 grid points per latitude circle between 32.2degN and 32.2degS reducing to 18 grid points per latitude circle at 89.6degN and 89.6degS); 91 levels; top level 78.4 km)\",\"ocean_model\":\"Nemo 3.6 (eORCA025, tripolar primarily 1\\/4deg; 1442 x 1050 longitude\\/latitude; 75 levels; top grid cell 0-1 m)\",\"land_model\":\"Surfex 8.0c\",\"ocnBgchem_model\":\"none\",\"aerosol_model\":\"prescribed monthly fields computed by TACTIC_v2 scheme\",\"atmosChem_model\":\"OZL_v2\",\"seaIce_model\":\"Gelato 6.1\",\"landIce_model\":\"none\"},{\"index\":30,\"qgrid_unfiltered_index\":30,\"source_id\":\"CNRM-ESM2-1\",\"institution_id\":\"CNRM-CERFACS\",\"release_year\":2017,\"atmos_model\":\"Arpege 6.3 (T127; Gaussian Reduced with 24572 grid points in total distributed over 128 latitude circles (with 256 grid points per latitude circle between 30degN and 30degS reducing to 20 grid points per latitude circle at 88.9degN and 88.9degS); 91 levels; top level 78.4 km)\",\"ocean_model\":\"Nemo 3.6 (eORCA1, tripolar primarily 1deg; 362 x 294 longitude\\/latitude; 75 levels; top grid cell 0-1 m)\",\"land_model\":\"Surfex 8.0c\",\"ocnBgchem_model\":\"Pisces 2.s\",\"aerosol_model\":\"TACTIC_v2\",\"atmosChem_model\":\"REPROBUS-C_v2\",\"seaIce_model\":\"Gelato 6.1\",\"landIce_model\":\"none\"},{\"index\":31,\"qgrid_unfiltered_index\":31,\"source_id\":\"CNRM-ESM2-1-HR\",\"institution_id\":\"CNRM-CERFACS\",\"release_year\":2017,\"atmos_model\":\"Arpege 6.3 (T359; Gaussian Reduced with 181724 grid points in total distributed over 360 latitude circles (with 720 grid points per latitude circle between 32.2degN and 32.2degS reducing to 18 grid points per latitude circle at 89.6degN and 89.6degS); 91 levels; top level 78.4 km)\",\"ocean_model\":\"Nemo 3.6 (eORCA025, tripolar primarily 1\\/4deg; 1442 x 1050 longitude\\/latitude; 75 levels; top grid cell 0-1 m)\",\"land_model\":\"Surfex 8.0c\",\"ocnBgchem_model\":\"Pisces 2.s\",\"aerosol_model\":\"TACTIC_v2\",\"atmosChem_model\":\"REPROBUS-C_v2\",\"seaIce_model\":\"Gelato 6.1\",\"landIce_model\":\"none\"},{\"index\":32,\"qgrid_unfiltered_index\":32,\"source_id\":\"CSIRO-Mk3L-1-3\",\"institution_id\":\"UTAS\",\"release_year\":2006,\"atmos_model\":\"unnamed (R21; 64 x 56 longitude\\/latitude; 18 levels; top level 36355 m)\",\"ocean_model\":\"MOM1.x (128 x 112 longitude\\/latitude; 31 levels; top grid cell 0-10 m; bottom grid cell 4600-5000 m)\",\"land_model\":\"unnamed\",\"ocnBgchem_model\":\"none\",\"aerosol_model\":\"none\",\"atmosChem_model\":\"none\",\"seaIce_model\":\"unnamed (same grid as atmosphere)\",\"landIce_model\":\"none\"},{\"index\":33,\"qgrid_unfiltered_index\":33,\"source_id\":\"E3SM-1-0\",\"institution_id\":\"E3SM-Project\",\"release_year\":2018,\"atmos_model\":\"EAM (v1.0, cubed sphere spectral-element grid; 5400 elements with p=3; 1 deg average grid spacing; 90 x 90 x 6 longitude\\/latitude\\/cubeface; 72 levels; top level 0.1 hPa)\",\"ocean_model\":\"MPAS-Ocean (v6.0, oEC60to30 unstructured SVTs mesh with 235160 cells and 714274 edges, variable resolution 60 km to 30 km; 60 levels; top grid cell 0-10 m)\",\"land_model\":\"ELM (v1.0, cubed sphere spectral-element grid; 5400 elements with p=3; 1 deg average grid spacing; 90 x 90 x 6 longitude\\/latitude\\/cubeface; satellite phenology mode), MOSART (v1.0, 0.5 degree latitude\\/longitude grid)\",\"ocnBgchem_model\":\"none\",\"aerosol_model\":\"MAM4 with resuspension, marine organics, and secondary organics (same grid as atmos)\",\"atmosChem_model\":\"Troposphere specified oxidants for aerosols. Stratosphere linearized interactive ozone (LINOZ v2) (same grid as atmos)\",\"seaIce_model\":\"MPAS-Seaice (v6.0, same grid as ocean)\",\"landIce_model\":\"none\"},{\"index\":34,\"qgrid_unfiltered_index\":34,\"source_id\":\"EC-Earth3\",\"institution_id\":\"EC-Earth-Consortium\",\"release_year\":2019,\"atmos_model\":\"IFS cy36r4 (TL255, linearly reduced Gaussian grid equivalent to 512 x 256 longitude\\/latitude; 91 levels; top level 0.01 hPa)\",\"ocean_model\":\"NEMO3.6 (ORCA1 tripolar primarily 1 deg with meridional refinement down to 1\\/3 degree in the tropics; 362 x 292 longitude\\/latitude; 75 levels; top grid cell 0-1 m)\",\"land_model\":\"HTESSEL (land surface scheme built in IFS)\",\"ocnBgchem_model\":\"none\",\"aerosol_model\":\"none\",\"atmosChem_model\":\"none\",\"seaIce_model\":\"LIM3\",\"landIce_model\":\"none\"},{\"index\":35,\"qgrid_unfiltered_index\":35,\"source_id\":\"EC-Earth3-AerChem\",\"institution_id\":\"EC-Earth-Consortium\",\"release_year\":2019,\"atmos_model\":\"IFS cy36r4 (TL255, linearly reduced Gaussian grid equivalent to 512 x 256 longitude\\/latitude; 91 levels; top level 0.01 hPa)\",\"ocean_model\":\"NEMO3.6 (ORCA1 tripolar primarily 1 degree with meridional refinement down to 1\\/3 degree in the tropics; 362 x 292 longitude\\/latitude; 75 levels; top grid cell 0-1 m)\",\"land_model\":\"HTESSEL (land surface scheme built in IFS)\",\"ocnBgchem_model\":\"none\",\"aerosol_model\":\"TM5 (3 x 2 degrees; 120 x 90 longitude\\/latitude; 34 levels; top level: 0.1 hPa)\",\"atmosChem_model\":\"TM5 (3 x 2 degrees; 120 x 90 longitude\\/latitude; 34 levels; top level: 0.1 hPa)\",\"seaIce_model\":\"LIM3\",\"landIce_model\":\"none\"},{\"index\":36,\"qgrid_unfiltered_index\":36,\"source_id\":\"EC-Earth3-CC\",\"institution_id\":\"EC-Earth-Consortium\",\"release_year\":2019,\"atmos_model\":\"IFS cy36r4 (TL255, linearly reduced Gaussian grid equivalent to 512 x 256 longitude\\/latitude; 91 levels; top level 0.01 hPa)\",\"ocean_model\":\"NEMO3.6 (ORCA1 tripolar primarily 1 degree with meridional refinement down to 1\\/3 degree in the tropics; 362 x 292 longitude\\/latitude; 75 levels; top grid cell 0-1 m)\",\"land_model\":\"HTESSEL (land surface scheme built in IFS) and LPJ-GUESS v4\",\"ocnBgchem_model\":\"PISCES v2\",\"aerosol_model\":\"none\",\"atmosChem_model\":\"TM5 (3 x 2 degrees; 120 x 90 longitude\\/latitude; 34 levels; top level: 0.1 hPa)\",\"seaIce_model\":\"LIM3\",\"landIce_model\":\"none\"},{\"index\":37,\"qgrid_unfiltered_index\":37,\"source_id\":\"EC-Earth3-GrIS\",\"institution_id\":\"EC-Earth-Consortium\",\"release_year\":2019,\"atmos_model\":\"IFS cy36r4 (TL255, linearly reduced Gaussian grid equivalent to 512 x 256 longitude\\/latitude; 91 levels; top level 0.01 hPa)\",\"ocean_model\":\"NEMO3.6 (ORCA1 tripolar primarily 1 degree with meridional refinement down to 1\\/3 degree in the tropics; 362 x 292 longitude\\/latitude; 75 levels; top grid cell 0-1 m)\",\"land_model\":\"HTESSEL (land surface scheme built in IFS)\",\"ocnBgchem_model\":\"none\",\"aerosol_model\":\"none\",\"atmosChem_model\":\"none\",\"seaIce_model\":\"LIM3\",\"landIce_model\":\"PISM 0.7 (5 km x 5 km, 442 levels)\"},{\"index\":38,\"qgrid_unfiltered_index\":38,\"source_id\":\"EC-Earth3-HR\",\"institution_id\":\"EC-Earth-Consortium\",\"release_year\":2019,\"atmos_model\":\"IFS cy36r4 (TL511, linearly reduced Gaussian grid equivalent to 1024 x 512 longitude\\/latitude; 91 levels; top level 0.01 hPa)\",\"ocean_model\":\"NEMO3.6 (ORCA025 tripolar primarily 0.25 degrees; 1442 x 1921 longitude\\/latitude; 75 levels; top grid cell 0-1 m)\",\"land_model\":\"HTESSEL (land surface scheme built in IFS)\",\"ocnBgchem_model\":\"none\",\"aerosol_model\":\"none\",\"atmosChem_model\":\"none\",\"seaIce_model\":\"LIM3\",\"landIce_model\":\"none\"},{\"index\":39,\"qgrid_unfiltered_index\":39,\"source_id\":\"EC-Earth3-LR\",\"institution_id\":\"EC-Earth-Consortium\",\"release_year\":2019,\"atmos_model\":\"IFS cy36r4 (TL159, linearly reduced Gaussian grid equivalent to 320 x 160 longitude\\/latitude; 62 levels; top level 5 hPa)\",\"ocean_model\":\"NEMO3.6 (ORCA1 tripolar primarily 1 degree with meridional refinement down to 1\\/3 degree in the tropics; 362 x 292 longitude\\/latitude; 75 levels; top grid cell 0-1 m)\",\"land_model\":\"HTESSEL (land surface scheme built in IFS)\",\"ocnBgchem_model\":\"none\",\"aerosol_model\":\"none\",\"atmosChem_model\":\"none\",\"seaIce_model\":\"LIM3\",\"landIce_model\":\"none\"},{\"index\":40,\"qgrid_unfiltered_index\":40,\"source_id\":\"EC-Earth3-Veg\",\"institution_id\":\"EC-Earth-Consortium\",\"release_year\":2019,\"atmos_model\":\"IFS cy36r4 (TL255, linearly reduced Gaussian grid equivalent to 512 x 256 longitude\\/latitude; 91 levels; top level 0.01 hPa)\",\"ocean_model\":\"NEMO3.6 (ORCA1 tripolar primarily 1 degree with meridional refinement down to 1\\/3 degree in the tropics; 362 x 292 longitude\\/latitude; 75 levels; top grid cell 0-1 m)\",\"land_model\":\"HTESSEL (land surface scheme built in IFS) and LPJ-GUESS v4\",\"ocnBgchem_model\":\"none\",\"aerosol_model\":\"none\",\"atmosChem_model\":\"none\",\"seaIce_model\":\"LIM3\",\"landIce_model\":\"none\"},{\"index\":41,\"qgrid_unfiltered_index\":41,\"source_id\":\"EC-Earth3-Veg-LR\",\"institution_id\":\"EC-Earth-Consortium\",\"release_year\":2019,\"atmos_model\":\"IFS cy36r4 (TL159, linearly reduced Gaussian grid equivalent to 320 x 160 longitude\\/latitude; 62 levels; top level 5 hPa)\",\"ocean_model\":\"NEMO3.6 (ORCA1 tripolar primarily 1 degree with meridional refinement down to 1\\/3 degree in the tropics; 362 x 292 longitude\\/latitude; 75 levels; top grid cell 0-1 m)\",\"land_model\":\"HTESSEL (land surface scheme built in IFS) and LPJ-GUESS v4\",\"ocnBgchem_model\":\"none\",\"aerosol_model\":\"none\",\"atmosChem_model\":\"none\",\"seaIce_model\":\"LIM3\",\"landIce_model\":\"none\"},{\"index\":42,\"qgrid_unfiltered_index\":42,\"source_id\":\"EC-Earth3P\",\"institution_id\":\"EC-Earth-Consortium\",\"release_year\":2017,\"atmos_model\":\"IFS cy36r4 (TL255, linearly reduced Gaussian grid equivalent to 512 x 256 longitude\\/latitude; 91 levels; top level 0.01 hPa)\",\"ocean_model\":\"NEMO3.6 (ORCA1 tripolar primarily 1 degree with meridional refinement down to 1\\/3 degree in the tropics; 362 x 292 longitude\\/latitude; 75 levels; top grid cell 0-1 m)\",\"land_model\":\"HTESSEL (land surface scheme built in IFS)\",\"ocnBgchem_model\":\"none\",\"aerosol_model\":\"none\",\"atmosChem_model\":\"none\",\"seaIce_model\":\"LIM3\",\"landIce_model\":\"none\"},{\"index\":43,\"qgrid_unfiltered_index\":43,\"source_id\":\"EC-Earth3P-HR\",\"institution_id\":\"EC-Earth-Consortium\",\"release_year\":2017,\"atmos_model\":\"IFS cy36r4 (TL511, linearly reduced Gaussian grid equivalent to 1024 x 512 longitude\\/latitude; 91 levels; top level 0.01 hPa)\",\"ocean_model\":\"NEMO3.6 (ORCA025; tripolar primarily 0.25 degrees; 1442 x 1921 longitude\\/latitude; 75 levels; top grid cell 0-1 m)\",\"land_model\":\"HTESSEL (land surface scheme built in IFS)\",\"ocnBgchem_model\":\"none\",\"aerosol_model\":\"none\",\"atmosChem_model\":\"none\",\"seaIce_model\":\"LIM3\",\"landIce_model\":\"none\"},{\"index\":44,\"qgrid_unfiltered_index\":44,\"source_id\":\"EC-Earth3P-VHR\",\"institution_id\":\"EC-Earth-Consortium\",\"release_year\":2017,\"atmos_model\":\"IFS cy36r4 (TL1279, linearly reduced Gaussian grid equivalent to 2560 x 1280 longitude\\/latitude; 91 levels; top level 0.01 hPa)\",\"ocean_model\":\"NEMO3.6 (ORCA012 tripolar primarily 0.08 degrees; 4322 x 3059 longitude\\/latitude; 75 levels; top grid cell 0-1 m)\",\"land_model\":\"HTESSEL (land surface scheme built in IFS)\",\"ocnBgchem_model\":\"none\",\"aerosol_model\":\"none\",\"atmosChem_model\":\"none\",\"seaIce_model\":\"LIM3\",\"landIce_model\":\"none\"},{\"index\":45,\"qgrid_unfiltered_index\":45,\"source_id\":\"ECMWF-IFS-HR\",\"institution_id\":\"ECMWF\",\"release_year\":2017,\"atmos_model\":\"IFS (IFS CY43R1, Tco399, cubic octahedral reduced Gaussian grid equivalent to 1600 x 800 longitude\\/latitude; 91 levels; top level 0.01 hPa)\",\"ocean_model\":\"NEMO3.4 (NEMO v3.4; ORCA025 tripolar grid; 1442 x 1021 longitude\\/latitude; 75 levels; top grid cell 0-1 m)\",\"land_model\":\"HTESSEL (as implemented in IFS CY43R1)\",\"ocnBgchem_model\":\"none\",\"aerosol_model\":\"none\",\"atmosChem_model\":\"none\",\"seaIce_model\":\"LIM2 (LIM v2; ORCA025 tripolar grid; 1442 x 1021 longitude\\/latitude)\",\"landIce_model\":\"none\"},{\"index\":46,\"qgrid_unfiltered_index\":46,\"source_id\":\"ECMWF-IFS-LR\",\"institution_id\":\"ECMWF\",\"release_year\":2017,\"atmos_model\":\"IFS (IFS CY43R1, Tco199, cubic octahedral reduced Gaussian grid equivalent to 800 x 400 longitude\\/latitude; 91 levels; top level 0.01 hPa)\",\"ocean_model\":\"NEMO3.4 (NEMO v3.4; ORCA1 tripolar grid; 362 x 292 longitude\\/latitude; 75 levels; top grid cell 0-1 m)\",\"land_model\":\"HTESSEL (as implemented in IFS CY43R1)\",\"ocnBgchem_model\":\"none\",\"aerosol_model\":\"none\",\"atmosChem_model\":\"none\",\"seaIce_model\":\"LIM2 (LIM v2; ORCA1 tripolar grid; 362 x 292 longitude\\/latitude)\",\"landIce_model\":\"none\"},{\"index\":47,\"qgrid_unfiltered_index\":47,\"source_id\":\"ECMWF-IFS-MR\",\"institution_id\":\"ECMWF\",\"release_year\":2017,\"atmos_model\":\"IFS (IFS CY43R1, Tco199, cubic octahedral reduced Gaussian grid equivalent to 800 x 400 longitude\\/latitude; 91 levels; top level 0.01 hPa)\",\"ocean_model\":\"NEMO3.4 (NEMO v3.4; ORCA025 tripolar grid; 1442 x 1021 longitude\\/latitude; 75 levels; top grid cell 0-1 m)\",\"land_model\":\"HTESSEL (as implemented in IFS CY43R1)\",\"ocnBgchem_model\":\"none\",\"aerosol_model\":\"none\",\"atmosChem_model\":\"none\",\"seaIce_model\":\"LIM2 (LIM v2; ORCA025 tripolar grid; 1442 x 1021 longitude\\/latitude)\",\"landIce_model\":\"none\"},{\"index\":48,\"qgrid_unfiltered_index\":48,\"source_id\":\"EMAC-2-53-Vol\",\"institution_id\":\"MESSy-Consortium\",\"release_year\":2017,\"atmos_model\":\"ECHAM5.3.02 (modified; spectral T42; 128 x 64 longitude\\/latitude; 47 levels; top level 0.01 hPa)\",\"ocean_model\":\"MPIOM 1.3.0-beta (bipolar GR1.5, approximately 1.5deg reducing toward the poles; 256 x 220 longitude\\/latitude; 40 levels; top grid cell 0-12 m)\",\"land_model\":\"same as Atmosphere\",\"ocnBgchem_model\":\"none\",\"aerosol_model\":\"gmxe 2.2.x\",\"atmosChem_model\":\"MECCA 3.8.x\",\"seaIce_model\":\"thermodynamic (Semtner zero-layer) dynamic (Hibler 79) sea ice model\",\"landIce_model\":\"none\"},{\"index\":49,\"qgrid_unfiltered_index\":49,\"source_id\":\"EMAC-2-54-AerChem\",\"institution_id\":\"MESSy-Consortium\",\"release_year\":2018,\"atmos_model\":\"ECHAM5.3.02 (modified, spectral T42; 128 x 64 longitude\\/latitude; 47 levels; top level 0.01 hPa)\",\"ocean_model\":\"MPIOM 1.3.0-beta (bipolar GR1.5, approximately 1.5deg; 256 x 220 longitude\\/latitude; 40 levels; top grid cell 0-12 m)\",\"land_model\":\"same as Atmosphere\",\"ocnBgchem_model\":\"none\",\"aerosol_model\":\"gmxe 2.2.x\",\"atmosChem_model\":\"MECCA 3.8.x\",\"seaIce_model\":\"thermodynamic (Semtner zero-layer) dynamic (Hibler 79) sea ice model\",\"landIce_model\":\"none\"},{\"index\":50,\"qgrid_unfiltered_index\":50,\"source_id\":\"FGOALS-f3-H\",\"institution_id\":\"CAS\",\"release_year\":2017,\"atmos_model\":\"FAMIL2.2 (Cubed-sphere, c384; 1440 x 720 longitude\\/latitude; 32 levels; top level 2.16 hPa)\",\"ocean_model\":\"LICOM3.0 (LICOM3.0, tripolar primarily 0.1deg; 3600 x 2302 longitude\\/latitude; 55 levels; top grid cell 0-5 m)\",\"land_model\":\"CLM4.0\",\"ocnBgchem_model\":\"none\",\"aerosol_model\":\"none\",\"atmosChem_model\":\"none\",\"seaIce_model\":\"CICE4.0\",\"landIce_model\":\"none\"},{\"index\":51,\"qgrid_unfiltered_index\":51,\"source_id\":\"FGOALS-f3-L\",\"institution_id\":\"CAS\",\"release_year\":2017,\"atmos_model\":\"FAMIL2.2 (Cubed-sphere, c96; 360 x 180 longitude\\/latitude; 32 levels; top level 2.16 hPa)\",\"ocean_model\":\"LICOM3.0 (LICOM3.0, tripolar primarily 1deg; 360 x 218 longitude\\/latitude; 30 levels; top grid cell 0-10 m)\",\"land_model\":\"CLM4.0\",\"ocnBgchem_model\":\"none\",\"aerosol_model\":\"none\",\"atmosChem_model\":\"none\",\"seaIce_model\":\"CICE4.0\",\"landIce_model\":\"none\"},{\"index\":52,\"qgrid_unfiltered_index\":52,\"source_id\":\"FGOALS-g3\",\"institution_id\":\"CAS\",\"release_year\":2017,\"atmos_model\":\"GAMIL2 (180 x 90 longitude\\/latitude; 26 levels; top level 2.19hPa)\",\"ocean_model\":\"LICOM3.0 (LICOM3.0, tripolar primarily 1deg; 360 x 218 longitude\\/latitude; 30 levels; top grid cell 0-10 m)\",\"land_model\":\"CLM4.0\",\"ocnBgchem_model\":\"none\",\"aerosol_model\":\"none\",\"atmosChem_model\":\"none\",\"seaIce_model\":\"CICE4.0\",\"landIce_model\":\"none\"},{\"index\":53,\"qgrid_unfiltered_index\":53,\"source_id\":\"FIO-ESM-2-0\",\"institution_id\":\"FIO-QLNM\",\"release_year\":2018,\"atmos_model\":\"CAM4 (0.9x1.25 finite volume grid; 192 x 288 longitude\\/latitude; 26 levels; top level ~2 hPa)\",\"ocean_model\":\"POP2-W (POP2 coupled with MASNUM surface wave model, Displaced Pole; 320 x 384 longitude\\/latitude; 60 levels; top grid cell 0-10 m)\",\"land_model\":\"CLM4.0 (same grid at atmos)\",\"ocnBgchem_model\":\"none\",\"aerosol_model\":\"Prescribed monthly fields\",\"atmosChem_model\":\"none\",\"seaIce_model\":\"CICE4.0 (same grid as ocean)\",\"landIce_model\":\"none\"},{\"index\":54,\"qgrid_unfiltered_index\":54,\"source_id\":\"GFDL-AM4\",\"institution_id\":\"NOAA-GFDL\",\"release_year\":2018,\"atmos_model\":\"GFDL-AM4.0 (Cubed-sphere (c96) - 1 degree nominal horizontal resolution; 360 x 180 longitude\\/latitude; 33 levels; top level 1 hPa)\",\"ocean_model\":\"none\",\"land_model\":\"GFDL-LM4.0\",\"ocnBgchem_model\":\"none\",\"aerosol_model\":\"interactive\",\"atmosChem_model\":\"fast chemistry, aerosol only\",\"seaIce_model\":\"none\",\"landIce_model\":\"GFDL-LM4.0\"},{\"index\":55,\"qgrid_unfiltered_index\":55,\"source_id\":\"GFDL-CM4\",\"institution_id\":\"NOAA-GFDL\",\"release_year\":2018,\"atmos_model\":\"GFDL-AM4.0.1 (Cubed-sphere (c96) - 1 degree nominal horizontal resolution; 360 x 180 longitude\\/latitude; 33 levels; top level 1 hPa)\",\"ocean_model\":\"GFDL-OM4p25 (GFDL-MOM6, tripolar - nominal 0.25 deg; 1440 x 1080 longitude\\/latitude; 75 levels; top grid cell 0-2 m)\",\"land_model\":\"GFDL-LM4.0.1 (1 degree nominal horizontal resolution; 360 x 180 longitude\\/latitude; 20 levels; bottom level 10m); land-Veg:unnamed (dynamic vegetation, dynamic land use); land-Hydro:unnamed (soil water and ice, multi-layer snow, rivers and lakes)\",\"ocnBgchem_model\":\"GFDL-BLINGv2\",\"aerosol_model\":\"interactive\",\"atmosChem_model\":\"fast chemistry, aerosol only\",\"seaIce_model\":\"GFDL-SIM4p25 (GFDL-SIS2.0, tripolar - nominal 0.25 deg; 1440 x 1080 longitude\\/latitude; 5 layers; 5 thickness categories)\",\"landIce_model\":\"GFDL-LM4.0.1\"},{\"index\":56,\"qgrid_unfiltered_index\":56,\"source_id\":\"GFDL-CM4C192\",\"institution_id\":\"NOAA-GFDL\",\"release_year\":2018,\"atmos_model\":\"GFDL-AM4C192 (Cubed-sphere (c192) - 0.5 degree nominal horizontal resolution; 720 x 360 longitude\\/latitude; 33 levels; top level 1 hPa)\",\"ocean_model\":\"GFDL-OM4p25 (GFDL-MOM6, tripolar - nominal 0.25 deg; 1440 x 1080 longitude\\/latitude; 75 levels; top grid cell 0-2 m)\",\"land_model\":\"GFDL-LM4.0.1\",\"ocnBgchem_model\":\"none\",\"aerosol_model\":\"interactive\",\"atmosChem_model\":\"fast chemistry, aerosol only\",\"seaIce_model\":\"GFDL-SIM4p25 (GFDL-SIS2.0, tripolar - nominal 0.25 deg; 1440 x 1080 longitude\\/latitude; 5 layers; 5 thickness categories)\",\"landIce_model\":\"GFDL-LM4.0.1\"},{\"index\":57,\"qgrid_unfiltered_index\":57,\"source_id\":\"GFDL-ESM2M\",\"institution_id\":\"NOAA-GFDL\",\"release_year\":2012,\"atmos_model\":\"GFDL-AM2 (144 x 90 longitude\\/latitude; 24 levels; top level 1 hPa)\",\"ocean_model\":\"GFDL-MOM4p1 (tripolar - nominal 1 deg; 360 x 200 longitude\\/latitude; 50 levels; top grid cell 0-10 m)\",\"land_model\":\"GFDL-LM3.0\",\"ocnBgchem_model\":\"GFDL-TOPAZ2\",\"aerosol_model\":\"prescribed\",\"atmosChem_model\":\"prescribed\",\"seaIce_model\":\"GFDL-SIM2 (GFDL-SIS, tripolar - nominal 1 deg; 360 x 200 longitude\\/latitude; 3 layers; 5 thickness categories)\",\"landIce_model\":\"GFDL-LM3.0\"},{\"index\":58,\"qgrid_unfiltered_index\":58,\"source_id\":\"GFDL-ESM4\",\"institution_id\":\"NOAA-GFDL\",\"release_year\":2018,\"atmos_model\":\"GFDL-AM4.1 (Cubed-sphere (c96) - 1 degree nominal horizontal resolution; 360 x 180 longitude\\/latitude; 49 levels; top level 1 Pa)\",\"ocean_model\":\"GFDL-OM4p5 (GFDL-MOM6, tripolar - nominal 0.5 deg; 720 x 576 longitude\\/latitude; 75 levels; top grid cell 0-2 m)\",\"land_model\":\"GFDL-LM4.1\",\"ocnBgchem_model\":\"GFDL-COBALTv2\",\"aerosol_model\":\"interactive\",\"atmosChem_model\":\"GFDL-ATMCHEM4.1 (full atmospheric chemistry)\",\"seaIce_model\":\"GFDL-SIM4p5 (GFDL-SIS2.0, tripolar - nominal 0.5 deg; 720 x 576 longitude\\/latitude; 5 layers; 5 thickness categories)\",\"landIce_model\":\"GFDL-LM4.1\"},{\"index\":59,\"qgrid_unfiltered_index\":59,\"source_id\":\"GFDL-OM4p5B\",\"institution_id\":\"NOAA-GFDL\",\"release_year\":2018,\"atmos_model\":\"none\",\"ocean_model\":\"GFDL-OM4p5 (GFDL-MOM6, tripolar - nominal 0.5 deg; 720 x 576 longitude\\/latitude; 75 levels; top grid cell 0-2 m)\",\"land_model\":\"none\",\"ocnBgchem_model\":\"GFDL-BLINGv2\",\"aerosol_model\":\"none\",\"atmosChem_model\":\"none\",\"seaIce_model\":\"GFDL-SIM4p5 (GFDL-SIS2.0, tripolar - nominal 0.5 deg; 720 x 576 longitude\\/latitude; 5 layers; 5 thickness categories)\",\"landIce_model\":\"none\"},{\"index\":60,\"qgrid_unfiltered_index\":60,\"source_id\":\"GISS-E2-1-G\",\"institution_id\":\"NASA-GISS\",\"release_year\":2016,\"atmos_model\":\"GISS-E2.1 (2.5x2 degree; 144 x 90 longitude\\/latitude; 40 levels; top level 0.1 hPa)\",\"ocean_model\":\"GISS Ocean (1 degree; 360 x 180 latitude\\/longitude; 32 levels; top grid cell 0-10 m)\",\"land_model\":\"GISS LSM\",\"ocnBgchem_model\":\"none\",\"aerosol_model\":\"Varies with physics-version (p==1 none, p==3 OMA, p==4 TOMAS, p==5 MATRIX)\",\"atmosChem_model\":\"Varies with physics-version (p==1 Non-interactive, p>1 GPUCCINI)\",\"seaIce_model\":\"GISS SI\",\"landIce_model\":\"none\"},{\"index\":61,\"qgrid_unfiltered_index\":61,\"source_id\":\"GISS-E2-1-H\",\"institution_id\":\"NASA-GISS\",\"release_year\":2016,\"atmos_model\":\"GISS-E2.1 (2.5x2 degree; 144 x 90 longitude\\/latitude; 40 levels; top level 0.1 hPa)\",\"ocean_model\":\"HYCOM Ocean (~1 degree tripolar grid; 360 x 180 latitude\\/longitude; 26 levels; top grid cell 0-10 m)\",\"land_model\":\"GISS LSM\",\"ocnBgchem_model\":\"none\",\"aerosol_model\":\"Varies with physics-version (p==1 none, p==3 OMA, p==4 TOMAS, p==5 MATRIX)\",\"atmosChem_model\":\"Varies with physics-version (p==1 Non-interactive, p>1 GPUCCINI)\",\"seaIce_model\":\"GISS SI\",\"landIce_model\":\"none\"},{\"index\":62,\"qgrid_unfiltered_index\":62,\"source_id\":\"GISS-E2-1-MA-G\",\"institution_id\":\"NASA-GISS\",\"release_year\":2018,\"atmos_model\":\"GISS-E2.1MA (2.5x2 degree; 144 x 90 longitude\\/latitude; 102 levels; top level 0.002 hPa)\",\"ocean_model\":\"GISS Ocean (1 degree; 360 x 180 longitude\\/latitude; 32 levels; top grid cell 0-10 m)\",\"land_model\":\"GISS LSM\",\"ocnBgchem_model\":\"none\",\"aerosol_model\":\"Varies with physics-version (p==1 none, p==3 OMA, p==4 TOMAS, p==5 MATRIX)\",\"atmosChem_model\":\"Varies with physics-version (p==1 Non-interactive, p>1 GPUCCINI)\",\"seaIce_model\":\"GISS SI\",\"landIce_model\":\"none\"},{\"index\":63,\"qgrid_unfiltered_index\":63,\"source_id\":\"GISS-E3-G\",\"institution_id\":\"NASA-GISS\",\"release_year\":2018,\"atmos_model\":\"GISS-E3 (Cubed sphere, C90; 90 x 90 x 6 gridboxes\\/cubeface, grid resolution aligns with longitude\\/latitude along central lines for each cubeface; 102 levels; top level 0.002 hPa)\",\"ocean_model\":\"GISS Ocean (1 degree; 360 x 180 longitude\\/latitude; 32 levels; top grid cell 0-10 m)\",\"land_model\":\"GISS LSM\",\"ocnBgchem_model\":\"none\",\"aerosol_model\":\"Varies with physics-version (p==1 none, p==3 OMA, p==4 TOMAS, p==5 MATRIX)\",\"atmosChem_model\":\"Varies with physics-version (p==1 Non-interactive, p>1 GPUCCINI)\",\"seaIce_model\":\"GISS SI\",\"landIce_model\":\"none\"},{\"index\":64,\"qgrid_unfiltered_index\":64,\"source_id\":\"HadGEM3-GC31-HH\",\"institution_id\":\"MOHC\",\"release_year\":2016,\"atmos_model\":\"MetUM-HadGEM3-GA7.1 (N512; 1024 x 768 longitude\\/latitude; 85 levels; top level 85 km)\",\"ocean_model\":\"NEMO-HadGEM3-GO6.0 (eORCA12 tripolar primarily 1\\/12 deg; 4320 x 3604 longitude\\/latitude; 75 levels; top grid cell 0-1 m)\",\"land_model\":\"JULES-HadGEM3-GL7.1\",\"ocnBgchem_model\":\"none\",\"aerosol_model\":\"UKCA-GLOMAP-mode\",\"atmosChem_model\":\"none\",\"seaIce_model\":\"CICE-HadGEM3-GSI8 (eORCA12 tripolar primarily 1\\/12 deg; 4320 x 3604 longitude\\/latitude)\",\"landIce_model\":\"none\"},{\"index\":65,\"qgrid_unfiltered_index\":65,\"source_id\":\"HadGEM3-GC31-HM\",\"institution_id\":\"MOHC\",\"release_year\":2016,\"atmos_model\":\"MetUM-HadGEM3-GA7.1 (N512; 1024 x 768 longitude\\/latitude; 85 levels; top level 85 km)\",\"ocean_model\":\"NEMO-HadGEM3-GO6.0 (eORCA025 tripolar primarily 0.25 deg; 1440 x 1205 longitude\\/latitude; 75 levels; top grid cell 0-1 m)\",\"land_model\":\"JULES-HadGEM3-GL7.1\",\"ocnBgchem_model\":\"none\",\"aerosol_model\":\"UKCA-GLOMAP-mode\",\"atmosChem_model\":\"none\",\"seaIce_model\":\"CICE-HadGEM3-GSI8 (eORCA025 tripolar primarily 0.25 deg; 1440 x 1205 longitude\\/latitude)\",\"landIce_model\":\"none\"},{\"index\":66,\"qgrid_unfiltered_index\":66,\"source_id\":\"HadGEM3-GC31-LL\",\"institution_id\":\"MOHC\",\"release_year\":2016,\"atmos_model\":\"MetUM-HadGEM3-GA7.1 (N96; 192 x 144 longitude\\/latitude; 85 levels; top level 85 km)\",\"ocean_model\":\"NEMO-HadGEM3-GO6.0 (eORCA1 tripolar primarily 1 deg with meridional refinement down to 1\\/3 degree in the tropics; 360 x 330 longitude\\/latitude; 75 levels; top grid cell 0-1 m)\",\"land_model\":\"JULES-HadGEM3-GL7.1\",\"ocnBgchem_model\":\"none\",\"aerosol_model\":\"UKCA-GLOMAP-mode\",\"atmosChem_model\":\"none\",\"seaIce_model\":\"CICE-HadGEM3-GSI8 (eORCA1 tripolar primarily 1 deg; 360 x 330 longitude\\/latitude)\",\"landIce_model\":\"none\"},{\"index\":67,\"qgrid_unfiltered_index\":67,\"source_id\":\"HadGEM3-GC31-LM\",\"institution_id\":\"MOHC\",\"release_year\":2016,\"atmos_model\":\"MetUM-HadGEM3-GA7.1 (N96; 192 x 144 longitude\\/latitude; 85 levels; top level 85 km)\",\"ocean_model\":\"NEMO-HadGEM3-GO6.0 (eORCA025 tripolar primarily 0.25 deg; 1440 x 1205 longitude\\/latitude; 75 levels; top grid cell 0-1 m)\",\"land_model\":\"JULES-HadGEM3-GL7.1\",\"ocnBgchem_model\":\"none\",\"aerosol_model\":\"UKCA-GLOMAP-mode\",\"atmosChem_model\":\"none\",\"seaIce_model\":\"CICE-HadGEM3-GSI8 (eORCA025 tripolar primarily 0.25 deg; 1440 x 1205 longitude\\/latitude)\",\"landIce_model\":\"none\"},{\"index\":68,\"qgrid_unfiltered_index\":68,\"source_id\":\"HadGEM3-GC31-MH\",\"institution_id\":\"MOHC\",\"release_year\":2016,\"atmos_model\":\"MetUM-HadGEM3-GA7.1 (N216; 432 x 324 longitude\\/latitude; 85 levels; top level 85 km)\",\"ocean_model\":\"NEMO-HadGEM3-GO6.0 (eORCA12 tripolar primarily 1\\/12 deg; 4320 x 3604 longitude\\/latitude; 75 levels; top grid cell 0-1 m)\",\"land_model\":\"JULES-HadGEM3-GL7.1\",\"ocnBgchem_model\":\"none\",\"aerosol_model\":\"UKCA-GLOMAP-mode\",\"atmosChem_model\":\"none\",\"seaIce_model\":\"CICE-HadGEM3-GSI8 (eORCA12 tripolar primarily 1\\/12 deg; 4320 x 3604 longitude\\/latitude)\",\"landIce_model\":\"none\"},{\"index\":69,\"qgrid_unfiltered_index\":69,\"source_id\":\"HadGEM3-GC31-MM\",\"institution_id\":\"MOHC\",\"release_year\":2016,\"atmos_model\":\"MetUM-HadGEM3-GA7.1 (N216; 432 x 324 longitude\\/latitude; 85 levels; top level 85 km)\",\"ocean_model\":\"NEMO-HadGEM3-GO6.0 (eORCA025 tripolar primarily 0.25 deg; 1440 x 1205 longitude\\/latitude; 75 levels; top grid cell 0-1 m)\",\"land_model\":\"JULES-HadGEM3-GL7.1\",\"ocnBgchem_model\":\"none\",\"aerosol_model\":\"UKCA-GLOMAP-mode\",\"atmosChem_model\":\"none\",\"seaIce_model\":\"CICE-HadGEM3-GSI8 (eORCA025 tripolar primarily 0.25 deg; 1440 x 1205 longitude\\/latitude)\",\"landIce_model\":\"none\"},{\"index\":70,\"qgrid_unfiltered_index\":70,\"source_id\":\"ICON-ESM-LR\",\"institution_id\":\"MPI-M\",\"release_year\":2017,\"atmos_model\":\"ICON-A (icosahedral\\/triangles; 160 km; 47 levels; top level 80 km)\",\"ocean_model\":\"ICON-O (icosahedral\\/triangles; 40 km; 40 levels; top grid cell 0-12 m)\",\"land_model\":\"JSBACH4.20\",\"ocnBgchem_model\":\"HAMOCC\",\"aerosol_model\":\"none, prescribed MACv2-SP\",\"atmosChem_model\":\"none\",\"seaIce_model\":\"unnamed (thermodynamic (Semtner zero-layer) dynamic (Hibler 79) sea ice model)\",\"landIce_model\":\"none\\/prescribed\"},{\"index\":71,\"qgrid_unfiltered_index\":71,\"source_id\":\"IITM-ESM\",\"institution_id\":\"CCCR-IITM\",\"release_year\":2015,\"atmos_model\":\"IITM-GFSv1 (T62L64, Linearly Reduced Gaussian Grid; 192 x 94 longitude\\/latitude; 64 levels; top level 0.2 mb)\",\"ocean_model\":\"MOM4p1 (tripolar, primarily 1deg; 360 x 200 longitude\\/latitude; 50 levels; top grid cell 0-10 m)\",\"land_model\":\"NOAH LSMv2.7.1\",\"ocnBgchem_model\":\"TOPAZv2.0\",\"aerosol_model\":\"prescribed MAC-v2\",\"atmosChem_model\":\"none\",\"seaIce_model\":\"SISv1.0\",\"landIce_model\":\"none\"},{\"index\":72,\"qgrid_unfiltered_index\":72,\"source_id\":\"INM-CM4-8\",\"institution_id\":\"INM\",\"release_year\":2016,\"atmos_model\":\"INM-AM4-8 (2x1.5; 180 x 120 longitude\\/latitude; 21 levels; top level sigma = 0.01)\",\"ocean_model\":\"INM-OM5 (North Pole shifted to 60N, 90E; 360 x 318 longitude\\/latitude; 40 levels; sigma vertical coordinate)\",\"land_model\":\"INM-LND1\",\"ocnBgchem_model\":\"none\",\"aerosol_model\":\"INM-AER1\",\"atmosChem_model\":\"none\",\"seaIce_model\":\"INM-ICE1\",\"landIce_model\":\"none\"},{\"index\":73,\"qgrid_unfiltered_index\":73,\"source_id\":\"INM-CM5-0\",\"institution_id\":\"INM\",\"release_year\":2016,\"atmos_model\":\"INM-AM5-0 (2x1.5; 180 x 120 longitude\\/latitude; 73 levels; top level sigma = 0.0002)\",\"ocean_model\":\"INM-OM5 (North Pole shifted to 60N, 90E. 0.5x0.25; 720 x 720 longitude\\/latitude; 40 levels; vertical sigma coordinate)\",\"land_model\":\"INM-LND1\",\"ocnBgchem_model\":\"none\",\"aerosol_model\":\"INM-AER1\",\"atmosChem_model\":\"none\",\"seaIce_model\":\"INM-ICE1\",\"landIce_model\":\"none\"},{\"index\":74,\"qgrid_unfiltered_index\":74,\"source_id\":\"INM-CM5-H\",\"institution_id\":\"INM\",\"release_year\":2016,\"atmos_model\":\"INM-AM5-H (0.67x0.5; 540 x 360 longitude\\/latitude; 73 levels; top level sigma = 0.0002)\",\"ocean_model\":\"INM-OM5-H (North Pole shifted to 60N, 90E. 0.167x0.125; 2160x1440 longitude\\/latitude; 40 levels; vertical sigma coordinate)\",\"land_model\":\"INM-LND1\",\"ocnBgchem_model\":\"none\",\"aerosol_model\":\"INM-AER1\",\"atmosChem_model\":\"none\",\"seaIce_model\":\"INM-ICE1\",\"landIce_model\":\"none\"},{\"index\":75,\"qgrid_unfiltered_index\":75,\"source_id\":\"IPSL-CM6A-ATM-HR\",\"institution_id\":\"IPSL\",\"release_year\":2018,\"atmos_model\":\"LMDZ (NPv6, N256; 512 x 360 longitude\\/latitude; 79 levels; top level 40000 m)\",\"ocean_model\":\"none\",\"land_model\":\"ORCHIDEE (v2.0, Water\\/Carbon\\/Energy mode)\",\"ocnBgchem_model\":\"none\",\"aerosol_model\":\"none\",\"atmosChem_model\":\"none\",\"seaIce_model\":\"none\",\"landIce_model\":\"none\"},{\"index\":76,\"qgrid_unfiltered_index\":76,\"source_id\":\"IPSL-CM6A-LR\",\"institution_id\":\"IPSL\",\"release_year\":2017,\"atmos_model\":\"LMDZ (NPv6, N96; 144 x 143 longitude\\/latitude; 79 levels; top level 40000 m)\",\"ocean_model\":\"NEMO-OPA (eORCA1.3, tripolar primarily 1deg; 362 x 332 longitude\\/latitude; 75 levels; top grid cell 0-2 m)\",\"land_model\":\"ORCHIDEE (v2.0, Water\\/Carbon\\/Energy mode)\",\"ocnBgchem_model\":\"NEMO-PISCES\",\"aerosol_model\":\"none\",\"atmosChem_model\":\"none\",\"seaIce_model\":\"NEMO-LIM3\",\"landIce_model\":\"none\"},{\"index\":77,\"qgrid_unfiltered_index\":77,\"source_id\":\"IPSL-CM7A-ATM-HR\",\"institution_id\":\"IPSL\",\"release_year\":2019,\"atmos_model\":\"DYNAMICO-LMDZ (NPv6; 256000-point icosahedral-hexagonal; 79 levels; top level 40000 m)\",\"ocean_model\":\"none\",\"land_model\":\"ORCHIDEE (v2.2, Water\\/Carbon\\/Energy mode)\",\"ocnBgchem_model\":\"none\",\"aerosol_model\":\"none\",\"atmosChem_model\":\"none\",\"seaIce_model\":\"none\",\"landIce_model\":\"none\"},{\"index\":78,\"qgrid_unfiltered_index\":78,\"source_id\":\"IPSL-CM7A-ATM-LR\",\"institution_id\":\"IPSL\",\"release_year\":2019,\"atmos_model\":\"DYNAMICO-LMDZ (NPv6; 16000-point icosahedral-hexagonal; 79 levels; top level 40000 m)\",\"ocean_model\":\"none\",\"land_model\":\"ORCHIDEE (v2.2, Water\\/Carbon\\/Energy mode)\",\"ocnBgchem_model\":\"none\",\"aerosol_model\":\"none\",\"atmosChem_model\":\"none\",\"seaIce_model\":\"none\",\"landIce_model\":\"none\"},{\"index\":79,\"qgrid_unfiltered_index\":79,\"source_id\":\"KACE-1-0-G\",\"institution_id\":\"NIMS-KMA\",\"release_year\":2018,\"atmos_model\":\"MetUM-HadGEM3-GA7.1 (N96; 192 x 144 longitude\\/latitude; 85 levels; top level 85 km)\",\"ocean_model\":\"MOM4p1 (tripolar primarily 1deg; 360 x 200 longitude\\/latitude; 50 levels; top grid cell 0-10 m)\",\"land_model\":\"JULES-HadGEM3-GL7.1\",\"ocnBgchem_model\":\"none\",\"aerosol_model\":\"UKCA-GLOMAP-mode\",\"atmosChem_model\":\"none\",\"seaIce_model\":\"CICE-HadGEM3-GSI8 (tripolar primarily 1deg; 360 x 200 longitude\\/latitude)\",\"landIce_model\":\"none\"},{\"index\":80,\"qgrid_unfiltered_index\":80,\"source_id\":\"KIOST-ESM\",\"institution_id\":\"KIOST\",\"release_year\":2018,\"atmos_model\":\"GFDL-AM2.0 (cubed sphere (C48); 192 x 96 longitude\\/latitude; 32 vertical levels; top level 2 hPa)\",\"ocean_model\":\"GFDL-MOM5.0 (tripolar - nominal 1.0 deg; 360 x 200 longitude\\/latitude; 52 levels; top grid cell 0-2 m; NK mixed layer scheme)\",\"land_model\":\"NCAR-CLM4\",\"ocnBgchem_model\":\"TOPAZ2\",\"aerosol_model\":\"none\",\"atmosChem_model\":\"Simple carbon aerosol model (emission type)\",\"seaIce_model\":\"GFDL-SIS\",\"landIce_model\":\"NCAR-CLM4\"},{\"index\":81,\"qgrid_unfiltered_index\":81,\"source_id\":\"MCM-UA-1-0\",\"institution_id\":\"UA\",\"release_year\":1991,\"atmos_model\":\"R30L14 (3.75 X 2.5 degree (long-lat) configuration; 96 x 80 longitude\\/latitude; 14 levels; top level 0.015 sigma, 15 mb)\",\"ocean_model\":\"MOM1.0 (MOM1, 1.875 X 2.5 deg; 192 x 80 longitude\\/latitude; 18 levels; top grid cell 0-40 m)\",\"land_model\":\"Standard Manabe bucket hydrology scheme (Manabe 1969, doi: 10.1175\\/1520-0493(1969)097<0739:CATOC>2.3.CO;2)\",\"ocnBgchem_model\":\"none\",\"aerosol_model\":\"Modifies surface albedoes (Haywood et al. 1997, doi: 10.1175\\/1520-0442(1997)010<1562:GCMCOT>2.0.CO;2)\",\"atmosChem_model\":\"none\",\"seaIce_model\":\"Thermodynamic ice model (free drift dynamics)\",\"landIce_model\":\"Specified location - invariant in time, has high albedo and latent heat capacity\"},{\"index\":82,\"qgrid_unfiltered_index\":82,\"source_id\":\"MIROC-ES2H\",\"institution_id\":\"MIROC\",\"release_year\":2018,\"atmos_model\":\"CCSR AGCM (T85; 256 x 128 longitude\\/latitude; 81 levels; top level 0.004 hPa)\",\"ocean_model\":\"COCO4.9 (tripolar primarily 1deg; 360 x 256 longitude\\/latitude; 63 levels; top grid cell 0-2 m)\",\"land_model\":\"MATSIRO6.0+VISIT-e ver.1.0\",\"ocnBgchem_model\":\"OECO ver.2.0; NPZD-type with C\\/N\\/P\\/Fe\\/O cycles\",\"aerosol_model\":\"SPRINTARS6.0\",\"atmosChem_model\":\"CHASER4.0\",\"seaIce_model\":\"COCO4.9\",\"landIce_model\":\"none\"},{\"index\":83,\"qgrid_unfiltered_index\":83,\"source_id\":\"MIROC-ES2L\",\"institution_id\":\"MIROC\",\"release_year\":2018,\"atmos_model\":\"CCSR AGCM (T42; 128 x 64 longitude\\/latitude; 40 levels; top level 3 hPa)\",\"ocean_model\":\"COCO4.9 (tripolar primarily 1deg; 360 x 256 longitude\\/latitude; 63 levels; top grid cell 0-2 m)\",\"land_model\":\"MATSIRO6.0+VISIT-e ver.1.0\",\"ocnBgchem_model\":\"OECO ver.2.0; NPZD-type with C\\/N\\/P\\/Fe\\/O cycles\",\"aerosol_model\":\"SPRINTARS6.0\",\"atmosChem_model\":\"none\",\"seaIce_model\":\"COCO4.9\",\"landIce_model\":\"none\"},{\"index\":84,\"qgrid_unfiltered_index\":84,\"source_id\":\"MIROC6\",\"institution_id\":\"MIROC\",\"release_year\":2017,\"atmos_model\":\"CCSR AGCM (T85; 256 x 128 longitude\\/latitude; 81 levels; top level 0.004 hPa)\",\"ocean_model\":\"COCO4.9 (tripolar primarily 1deg; 360 x 256 longitude\\/latitude; 63 levels; top grid cell 0-2 m)\",\"land_model\":\"MATSIRO6.0\",\"ocnBgchem_model\":\"none\",\"aerosol_model\":\"SPRINTARS6.0\",\"atmosChem_model\":\"none\",\"seaIce_model\":\"COCO4.9\",\"landIce_model\":\"none\"},{\"index\":85,\"qgrid_unfiltered_index\":85,\"source_id\":\"MPI-ESM-1-2-HAM\",\"institution_id\":\"HAMMOZ-Consortium\",\"release_year\":2017,\"atmos_model\":\"ECHAM6.3 (spectral T63; 192 x 96 longitude\\/latitude; 47 levels; top level 0.01 hPa)\",\"ocean_model\":\"MPIOM1.63 (bipolar GR1.5, approximately 1.5deg; 256 x 220 longitude\\/latitude; 40 levels; top grid cell 0-12 m)\",\"land_model\":\"JSBACH 3.20\",\"ocnBgchem_model\":\"HAMOCC6\",\"aerosol_model\":\"HAM2.3\",\"atmosChem_model\":\"sulfur chemistry (unnamed)\",\"seaIce_model\":\"unnamed (thermodynamic (Semtner zero-layer) dynamic (Hibler 79) sea ice model)\",\"landIce_model\":\"none\"},{\"index\":86,\"qgrid_unfiltered_index\":86,\"source_id\":\"MPI-ESM1-2-HR\",\"institution_id\":\"MPI-M\",\"release_year\":2017,\"atmos_model\":\"ECHAM6.3 (spectral T127; 384 x 192 longitude\\/latitude; 95 levels; top level 0.01 hPa)\",\"ocean_model\":\"MPIOM1.63 (tripolar TP04, approximately 0.4deg; 802 x 404 longitude\\/latitude; 40 levels; top grid cell 0-12 m)\",\"land_model\":\"JSBACH3.20\",\"ocnBgchem_model\":\"HAMOCC6\",\"aerosol_model\":\"none, prescribed MACv2-SP\",\"atmosChem_model\":\"none\",\"seaIce_model\":\"unnamed (thermodynamic (Semtner zero-layer) dynamic (Hibler 79) sea ice model)\",\"landIce_model\":\"none\\/prescribed\"},{\"index\":87,\"qgrid_unfiltered_index\":87,\"source_id\":\"MPI-ESM1-2-LR\",\"institution_id\":\"MPI-M\",\"release_year\":2017,\"atmos_model\":\"ECHAM6.3 (spectral T63; 192 x 96 longitude\\/latitude; 47 levels; top level 0.01 hPa)\",\"ocean_model\":\"MPIOM1.63 (bipolar GR1.5, approximately 1.5deg; 256 x 220 longitude\\/latitude; 40 levels; top grid cell 0-12 m)\",\"land_model\":\"JSBACH3.20\",\"ocnBgchem_model\":\"HAMOCC6\",\"aerosol_model\":\"none, prescribed MACv2-SP\",\"atmosChem_model\":\"none\",\"seaIce_model\":\"unnamed (thermodynamic (Semtner zero-layer) dynamic (Hibler 79) sea ice model)\",\"landIce_model\":\"none\\/prescribed\"},{\"index\":88,\"qgrid_unfiltered_index\":88,\"source_id\":\"MPI-ESM1-2-XR\",\"institution_id\":\"MPI-M\",\"release_year\":2017,\"atmos_model\":\"ECHAM6.3 (spectral T255; 768 x 384 longitude\\/latitude; 95 levels; top level 0.01 hPa)\",\"ocean_model\":\"MPIOM1.63 (tripolar TP04, approximately 0.4deg; 802 x 404 longitude\\/latitude; 40 levels; top grid cell 0-12 m)\",\"land_model\":\"JSBACH3.20\",\"ocnBgchem_model\":\"HAMOCC6\",\"aerosol_model\":\"none, prescribed MACv2-SP\",\"atmosChem_model\":\"none\",\"seaIce_model\":\"unnamed (thermodynamic (Semtner zero-layer) dynamic (Hibler 79) sea ice model)\",\"landIce_model\":\"none\\/prescribed\"},{\"index\":89,\"qgrid_unfiltered_index\":89,\"source_id\":\"MRI-AGCM3-2-H\",\"institution_id\":\"MRI\",\"release_year\":2017,\"atmos_model\":\"MRI-AGCM3.2H (TL319; 640 x 320 longitude\\/latitude; 64 levels; top level 0.01 hPa)\",\"ocean_model\":\"none\",\"land_model\":\"SIB0109\",\"ocnBgchem_model\":\"none\",\"aerosol_model\":\"Prescribed from MRI-ESM2.0\",\"atmosChem_model\":\"none\",\"seaIce_model\":\"none\",\"landIce_model\":\"none\"},{\"index\":90,\"qgrid_unfiltered_index\":90,\"source_id\":\"MRI-AGCM3-2-S\",\"institution_id\":\"MRI\",\"release_year\":2017,\"atmos_model\":\"MRI-AGCM3.2S (TL959; 1920 x 960 longitude\\/latitude; 64 levels; top level 0.01 hPa)\",\"ocean_model\":\"none\",\"land_model\":\"SIB0109\",\"ocnBgchem_model\":\"none\",\"aerosol_model\":\"Prescribed from MRI-ESM2.0\",\"atmosChem_model\":\"none\",\"seaIce_model\":\"none\",\"landIce_model\":\"none\"},{\"index\":91,\"qgrid_unfiltered_index\":91,\"source_id\":\"MRI-ESM2-0\",\"institution_id\":\"MRI\",\"release_year\":2017,\"atmos_model\":\"MRI-AGCM3.5 (TL159; 320 x 160 longitude\\/latitude; 80 levels; top level 0.01 hPa)\",\"ocean_model\":\"MRI.COM4.4 (tripolar primarily 0.5 deg latitude\\/1 deg longitude with meridional refinement down to 0.3 deg within 10 degrees north and south of the equator; 360 x 364 longitude\\/latitude; 61 levels; top grid cell 0-2 m)\",\"land_model\":\"HAL 1.0\",\"ocnBgchem_model\":\"MRI.COM4.4\",\"aerosol_model\":\"MASINGAR mk2r4 (TL95; 192 x 96 longitude\\/latitude; 80 levels; top level 0.01 hPa)\",\"atmosChem_model\":\"MRI-CCM2.1 (T42; 128 x 64 longitude\\/latitude; 80 levels; top level 0.01 hPa)\",\"seaIce_model\":\"MRI.COM4.4\",\"landIce_model\":\"none\"},{\"index\":92,\"qgrid_unfiltered_index\":92,\"source_id\":\"NESM3\",\"institution_id\":\"NUIST\",\"release_year\":2016,\"atmos_model\":\"ECHAM v6.3 (T63; 192 x 96 longitude\\/latitude; 47 levels; top level 1 Pa)\",\"ocean_model\":\"NEMO v3.4 (NEMO v3.4, tripolar primarily 1deg; 384 x 362 longitude\\/latitude; 46 levels; top grid cell 0-6 m)\",\"land_model\":\"JSBACH v3.1\",\"ocnBgchem_model\":\"none\",\"aerosol_model\":\"none\",\"atmosChem_model\":\"none\",\"seaIce_model\":\"CICE4.1\",\"landIce_model\":\"none\"},{\"index\":93,\"qgrid_unfiltered_index\":93,\"source_id\":\"NICAM16-7S\",\"institution_id\":\"MIROC\",\"release_year\":2017,\"atmos_model\":\"NICAM.16 (56km icosahedral grid; 163,842 grid cells (=10*4^7+2); 38 levels; top level 40 km)\",\"ocean_model\":\"none\",\"land_model\":\"MATSIRO6 (w\\/o MOSAIC)\",\"ocnBgchem_model\":\"none\",\"aerosol_model\":\"Prescribed MACv2-SP\",\"atmosChem_model\":\"none\",\"seaIce_model\":\"Fixed\",\"landIce_model\":\"none\"},{\"index\":94,\"qgrid_unfiltered_index\":94,\"source_id\":\"NICAM16-8S\",\"institution_id\":\"MIROC\",\"release_year\":2017,\"atmos_model\":\"NICAM.16 (28km icosahedral grid; 655,362 grid cells (=10*4^8+2); 38 levels; top level 40 km)\",\"ocean_model\":\"none\",\"land_model\":\"MATSIRO6 (w\\/o MOSAIC)\",\"ocnBgchem_model\":\"none\",\"aerosol_model\":\"Prescribed MACv2-SP\",\"atmosChem_model\":\"none\",\"seaIce_model\":\"Fixed\",\"landIce_model\":\"none\"},{\"index\":95,\"qgrid_unfiltered_index\":95,\"source_id\":\"NICAM16-9D-L78\",\"institution_id\":\"MIROC\",\"release_year\":2017,\"atmos_model\":\"NICAM.16 (14km icosahedral grid; 2,621,442 grid cells (=10*4^9+2); 78 levels; top level 40 km)\",\"ocean_model\":\"none\",\"land_model\":\"MATSIRO6 (w\\/o MOSAIC)\",\"ocnBgchem_model\":\"none\",\"aerosol_model\":\"Prescribed MACv2-SP\",\"atmosChem_model\":\"none\",\"seaIce_model\":\"Fixed\",\"landIce_model\":\"none\"},{\"index\":96,\"qgrid_unfiltered_index\":96,\"source_id\":\"NICAM16-9S\",\"institution_id\":\"MIROC\",\"release_year\":2017,\"atmos_model\":\"NICAM.16 (14km icosahedral grid; 2,621,442 grid cells (=10*4^9+2); 38 levels; top level 40 km)\",\"ocean_model\":\"none\",\"land_model\":\"MATSIRO6 (w\\/o MOSAIC)\",\"ocnBgchem_model\":\"none\",\"aerosol_model\":\"Prescribed MACv2-SP\",\"atmosChem_model\":\"none\",\"seaIce_model\":\"Fixed\",\"landIce_model\":\"none\"},{\"index\":97,\"qgrid_unfiltered_index\":97,\"source_id\":\"NorESM1-LM\",\"institution_id\":\"NCC\",\"release_year\":2019,\"atmos_model\":\"CAM-OSLO4.1 (2 degree resolution; 144 x 96 longitude\\/latitude; 26 levels; top level ~2 hPa)\",\"ocean_model\":\"MICOM1.1 (1 degree resolution; 320 x 384 longitude\\/latitude; 53 levels; top grid cell 0-2.5 m [native model uses hybrid density and generic upper-layer coordinate interpolated to z-level for contributed data])\",\"land_model\":\"CLM4 (same grid as atmos)\",\"ocnBgchem_model\":\"HAMOCC5.1 (same grid as ocean)\",\"aerosol_model\":\"OsloAero4.1 (same grid as atmos)\",\"atmosChem_model\":\"OsloChemSimp4.1 (same grid as atmos)\",\"seaIce_model\":\"CICE4 (same grid as ocean)\",\"landIce_model\":\"none\"},{\"index\":98,\"qgrid_unfiltered_index\":98,\"source_id\":\"NorESM2-HH\",\"institution_id\":\"NCC\",\"release_year\":2018,\"atmos_model\":\"CAM-OSLO (0.25 degree resolution; 1152 x 768; 32 levels; top level 3 mb)\",\"ocean_model\":\"MICOM (0.25 degree resolution; 1440 x 1152; 70 levels; top grid cell minimum 0-2.5 m [native model uses hybrid density and generic upper-layer coordinate interpolated to z-level for contributed data])\",\"land_model\":\"CLM\",\"ocnBgchem_model\":\"HAMOCC\",\"aerosol_model\":\"OsloAero\",\"atmosChem_model\":\"OsloChemSimp\",\"seaIce_model\":\"CICE\",\"landIce_model\":\"CISM\"},{\"index\":99,\"qgrid_unfiltered_index\":99,\"source_id\":\"NorESM2-LM\",\"institution_id\":\"NCC\",\"release_year\":2017,\"atmos_model\":\"CAM-OSLO (2 degree resolution; 144 x 96; 32 levels; top level 3 mb)\",\"ocean_model\":\"MICOM (1 degree resolution; 360 x 384; 70 levels; top grid cell minimum 0-2.5 m [native model uses hybrid density and generic upper-layer coordinate interpolated to z-level for contributed data])\",\"land_model\":\"CLM\",\"ocnBgchem_model\":\"HAMOCC\",\"aerosol_model\":\"OsloAero\",\"atmosChem_model\":\"OsloChemSimp\",\"seaIce_model\":\"CICE\",\"landIce_model\":\"CISM\"}]}",
       "_df_range": [
        0,
        100
       ],
       "_editable_rows": {},
       "_index_col_name": "qgrid_unfiltered_index",
       "_interval_columns": [],
       "_model_module_version": "1.1.1",
       "_multi_index": false,
       "_row_count": 111,
       "_row_styles": {},
       "_sort_ascending": true,
       "_sort_field": null,
       "_view_module_version": "1.1.1",
       "_viewport_range": [
        0,
        100
       ],
       "grid_options": {
        "autoEdit": false,
        "boldIndex": true,
        "defaultColumnWidth": 150,
        "editable": true,
        "enableColumnReorder": false,
        "enableTextSelectionOnCells": true,
        "explicitInitialization": true,
        "filterable": true,
        "forceFitColumns": true,
        "fullWidthRows": true,
        "highlightSelectedCell": false,
        "highlightSelectedRow": true,
        "maxVisibleRows": 15,
        "minVisibleRows": 8,
        "rowHeight": 28,
        "sortable": true,
        "syncColumnCellResize": true
       },
       "id": "df60c3c9-4492-433c-8c7d-6eaaba38cf83",
       "layout": "IPY_MODEL_13e607b6ddbc4ca99291a74b33c1524b",
       "precision": 5,
       "show_toolbar": false
      }
     },
     "9390bc754c2c454c80d269b94682c479": {
      "model_module": "qgrid",
      "model_module_version": "1.1.1",
      "model_name": "QgridModel",
      "state": {
       "_columns": {
        "activity_id": {
         "cssClass": "string",
         "defaultSortAsc": true,
         "editable": true,
         "field": "activity_id",
         "id": "activity_id",
         "minWidth": 30,
         "name": "activity_id",
         "position": 2,
         "resizable": true,
         "sortable": true,
         "toolTip": "",
         "type": "string"
        },
        "date_start": {
         "cssClass": "string",
         "defaultSortAsc": true,
         "editable": true,
         "field": "date_start",
         "id": "date_start",
         "minWidth": 30,
         "name": "date_start",
         "position": 10,
         "resizable": true,
         "sortable": true,
         "toolTip": "",
         "type": "string"
        },
        "date_stop": {
         "cssClass": "string",
         "defaultSortAsc": true,
         "editable": true,
         "field": "date_stop",
         "id": "date_stop",
         "minWidth": 30,
         "name": "date_stop",
         "position": 11,
         "resizable": true,
         "sortable": true,
         "toolTip": "",
         "type": "string"
        },
        "experiment_id": {
         "cssClass": "string",
         "defaultSortAsc": true,
         "editable": true,
         "field": "experiment_id",
         "id": "experiment_id",
         "minWidth": 30,
         "name": "experiment_id",
         "position": 4,
         "resizable": true,
         "sortable": true,
         "toolTip": "",
         "type": "string"
        },
        "grid_label": {
         "cssClass": "string",
         "defaultSortAsc": true,
         "editable": true,
         "field": "grid_label",
         "id": "grid_label",
         "minWidth": 30,
         "name": "grid_label",
         "position": 8,
         "resizable": true,
         "sortable": true,
         "toolTip": "",
         "type": "string"
        },
        "index": {
         "cssClass": "integer first-idx-col idx-col",
         "defaultSortAsc": true,
         "editable": true,
         "field": "index",
         "first_index": true,
         "id": "index",
         "index_display_text": "",
         "is_index": true,
         "level": 0,
         "minWidth": 30,
         "name": "",
         "position": 0,
         "resizable": true,
         "sortable": true,
         "toolTip": "",
         "type": "integer"
        },
        "member_id": {
         "cssClass": "string",
         "defaultSortAsc": true,
         "editable": true,
         "field": "member_id",
         "id": "member_id",
         "minWidth": 30,
         "name": "member_id",
         "position": 5,
         "resizable": true,
         "sortable": true,
         "toolTip": "",
         "type": "string"
        },
        "qgrid_unfiltered_index": {
         "cssClass": "integer",
         "defaultSortAsc": true,
         "editable": true,
         "field": "qgrid_unfiltered_index",
         "id": "qgrid_unfiltered_index",
         "maxWidth": null,
         "minWidth": 30,
         "name": "qgrid_unfiltered_index",
         "position": 1,
         "resizable": true,
         "sortable": true,
         "toolTip": "",
         "type": "integer",
         "width": null
        },
        "sizeG": {
         "cssClass": "number",
         "defaultSortAsc": true,
         "editable": true,
         "field": "sizeG",
         "id": "sizeG",
         "minWidth": 30,
         "name": "sizeG",
         "position": 13,
         "resizable": true,
         "sortable": true,
         "toolTip": "",
         "type": "number"
        },
        "source_id": {
         "cssClass": "string",
         "defaultSortAsc": true,
         "editable": true,
         "field": "source_id",
         "id": "source_id",
         "minWidth": 30,
         "name": "source_id",
         "position": 3,
         "resizable": true,
         "sortable": true,
         "toolTip": "",
         "type": "string"
        },
        "table_id": {
         "cssClass": "string",
         "defaultSortAsc": true,
         "editable": true,
         "field": "table_id",
         "id": "table_id",
         "minWidth": 30,
         "name": "table_id",
         "position": 6,
         "resizable": true,
         "sortable": true,
         "toolTip": "",
         "type": "string"
        },
        "time_len": {
         "cssClass": "number",
         "defaultSortAsc": true,
         "editable": true,
         "field": "time_len",
         "filter_info": {
          "field": "time_len",
          "max": null,
          "min": 482120,
          "type": "slider"
         },
         "id": "time_len",
         "minWidth": 30,
         "name": "time_len",
         "position": 12,
         "resizable": true,
         "slider_max": 482120,
         "slider_min": 12,
         "sortable": true,
         "toolTip": "",
         "type": "number"
        },
        "variable_id": {
         "cssClass": "string",
         "defaultSortAsc": true,
         "editable": true,
         "field": "variable_id",
         "id": "variable_id",
         "minWidth": 30,
         "name": "variable_id",
         "position": 7,
         "resizable": true,
         "sortable": true,
         "toolTip": "",
         "type": "string"
        },
        "zstore": {
         "cssClass": "string",
         "defaultSortAsc": true,
         "editable": true,
         "field": "zstore",
         "id": "zstore",
         "minWidth": 30,
         "name": "zstore",
         "position": 9,
         "resizable": true,
         "sortable": true,
         "toolTip": "",
         "type": "string"
        }
       },
       "_df_json": "{\"schema\": {\"fields\":[{\"name\":\"index\",\"type\":\"integer\"},{\"name\":\"qgrid_unfiltered_index\",\"type\":\"integer\"},{\"name\":\"activity_id\",\"type\":\"string\"},{\"name\":\"source_id\",\"type\":\"string\"},{\"name\":\"experiment_id\",\"type\":\"string\"},{\"name\":\"member_id\",\"type\":\"string\"},{\"name\":\"table_id\",\"type\":\"string\"},{\"name\":\"variable_id\",\"type\":\"string\"},{\"name\":\"grid_label\",\"type\":\"string\"},{\"name\":\"zstore\",\"type\":\"string\"},{\"name\":\"date_start\",\"type\":\"string\"},{\"name\":\"date_stop\",\"type\":\"string\"},{\"name\":\"time_len\",\"type\":\"number\"},{\"name\":\"sizeG\",\"type\":\"number\"}],\"primaryKey\":[\"index\"],\"pandas_version\":\"0.20.0\"}, \"data\": [{\"index\":4558,\"qgrid_unfiltered_index\":4558,\"activity_id\":\"CMIP\",\"source_id\":\"CNRM-CM6-1\",\"experiment_id\":\"historical\",\"member_id\":\"r1i1p1f2\",\"table_id\":\"3hr\",\"variable_id\":\"huss\",\"grid_label\":\"gr\",\"zstore\":\"gs:\\/\\/cmip6\\/CMIP\\/CNRM-CERFACS\\/CNRM-CM6-1\\/historical\\/r1i1p1f2\\/3hr\\/huss\\/gr\\/\",\"date_start\":\"1850-01-01\",\"date_stop\":\"2015-01-01\",\"time_len\":482120.0,\"sizeG\":49.6},{\"index\":4559,\"qgrid_unfiltered_index\":4559,\"activity_id\":\"CMIP\",\"source_id\":\"CNRM-CM6-1\",\"experiment_id\":\"historical\",\"member_id\":\"r1i1p1f2\",\"table_id\":\"3hr\",\"variable_id\":\"pr\",\"grid_label\":\"gr\",\"zstore\":\"gs:\\/\\/cmip6\\/CMIP\\/CNRM-CERFACS\\/CNRM-CM6-1\\/historical\\/r1i1p1f2\\/3hr\\/pr\\/gr\\/\",\"date_start\":\"1850-01-01\",\"date_stop\":\"2014-12-31\",\"time_len\":482120.0,\"sizeG\":58.7},{\"index\":4560,\"qgrid_unfiltered_index\":4560,\"activity_id\":\"CMIP\",\"source_id\":\"CNRM-CM6-1\",\"experiment_id\":\"historical\",\"member_id\":\"r1i1p1f2\",\"table_id\":\"3hr\",\"variable_id\":\"tas\",\"grid_label\":\"gr\",\"zstore\":\"gs:\\/\\/cmip6\\/CMIP\\/CNRM-CERFACS\\/CNRM-CM6-1\\/historical\\/r1i1p1f2\\/3hr\\/tas\\/gr\\/\",\"date_start\":\"1850-01-01\",\"date_stop\":\"2015-01-01\",\"time_len\":482120.0,\"sizeG\":40.0},{\"index\":4561,\"qgrid_unfiltered_index\":4561,\"activity_id\":\"CMIP\",\"source_id\":\"CNRM-CM6-1\",\"experiment_id\":\"historical\",\"member_id\":\"r1i1p1f2\",\"table_id\":\"3hr\",\"variable_id\":\"uas\",\"grid_label\":\"gr\",\"zstore\":\"gs:\\/\\/cmip6\\/CMIP\\/CNRM-CERFACS\\/CNRM-CM6-1\\/historical\\/r1i1p1f2\\/3hr\\/uas\\/gr\\/\",\"date_start\":\"1850-01-01\",\"date_stop\":\"2015-01-01\",\"time_len\":482120.0,\"sizeG\":53.6},{\"index\":4562,\"qgrid_unfiltered_index\":4562,\"activity_id\":\"CMIP\",\"source_id\":\"CNRM-CM6-1\",\"experiment_id\":\"historical\",\"member_id\":\"r1i1p1f2\",\"table_id\":\"3hr\",\"variable_id\":\"vas\",\"grid_label\":\"gr\",\"zstore\":\"gs:\\/\\/cmip6\\/CMIP\\/CNRM-CERFACS\\/CNRM-CM6-1\\/historical\\/r1i1p1f2\\/3hr\\/vas\\/gr\\/\",\"date_start\":\"1850-01-01\",\"date_stop\":\"2015-01-01\",\"time_len\":482120.0,\"sizeG\":54.3},{\"index\":5245,\"qgrid_unfiltered_index\":5245,\"activity_id\":\"CMIP\",\"source_id\":\"CNRM-ESM2-1\",\"experiment_id\":\"historical\",\"member_id\":\"r1i1p1f2\",\"table_id\":\"3hr\",\"variable_id\":\"huss\",\"grid_label\":\"gr\",\"zstore\":\"gs:\\/\\/cmip6\\/CMIP\\/CNRM-CERFACS\\/CNRM-ESM2-1\\/historical\\/r1i1p1f2\\/3hr\\/huss\\/gr\\/\",\"date_start\":\"1850-01-01\",\"date_stop\":\"2015-01-01\",\"time_len\":482120.0,\"sizeG\":49.5},{\"index\":5246,\"qgrid_unfiltered_index\":5246,\"activity_id\":\"CMIP\",\"source_id\":\"CNRM-ESM2-1\",\"experiment_id\":\"historical\",\"member_id\":\"r1i1p1f2\",\"table_id\":\"3hr\",\"variable_id\":\"pr\",\"grid_label\":\"gr\",\"zstore\":\"gs:\\/\\/cmip6\\/CMIP\\/CNRM-CERFACS\\/CNRM-ESM2-1\\/historical\\/r1i1p1f2\\/3hr\\/pr\\/gr\\/\",\"date_start\":\"1850-01-01\",\"date_stop\":\"2014-12-31\",\"time_len\":482120.0,\"sizeG\":58.7},{\"index\":5247,\"qgrid_unfiltered_index\":5247,\"activity_id\":\"CMIP\",\"source_id\":\"CNRM-ESM2-1\",\"experiment_id\":\"historical\",\"member_id\":\"r1i1p1f2\",\"table_id\":\"3hr\",\"variable_id\":\"tas\",\"grid_label\":\"gr\",\"zstore\":\"gs:\\/\\/cmip6\\/CMIP\\/CNRM-CERFACS\\/CNRM-ESM2-1\\/historical\\/r1i1p1f2\\/3hr\\/tas\\/gr\\/\",\"date_start\":\"1850-01-01\",\"date_stop\":\"2015-01-01\",\"time_len\":482120.0,\"sizeG\":39.9},{\"index\":5248,\"qgrid_unfiltered_index\":5248,\"activity_id\":\"CMIP\",\"source_id\":\"CNRM-ESM2-1\",\"experiment_id\":\"historical\",\"member_id\":\"r1i1p1f2\",\"table_id\":\"3hr\",\"variable_id\":\"uas\",\"grid_label\":\"gr\",\"zstore\":\"gs:\\/\\/cmip6\\/CMIP\\/CNRM-CERFACS\\/CNRM-ESM2-1\\/historical\\/r1i1p1f2\\/3hr\\/uas\\/gr\\/\",\"date_start\":\"1850-01-01\",\"date_stop\":\"2015-01-01\",\"time_len\":482120.0,\"sizeG\":53.6},{\"index\":5249,\"qgrid_unfiltered_index\":5249,\"activity_id\":\"CMIP\",\"source_id\":\"CNRM-ESM2-1\",\"experiment_id\":\"historical\",\"member_id\":\"r1i1p1f2\",\"table_id\":\"3hr\",\"variable_id\":\"vas\",\"grid_label\":\"gr\",\"zstore\":\"gs:\\/\\/cmip6\\/CMIP\\/CNRM-CERFACS\\/CNRM-ESM2-1\\/historical\\/r1i1p1f2\\/3hr\\/vas\\/gr\\/\",\"date_start\":\"1850-01-01\",\"date_stop\":\"2015-01-01\",\"time_len\":482120.0,\"sizeG\":54.3},{\"index\":6448,\"qgrid_unfiltered_index\":6448,\"activity_id\":\"CMIP\",\"source_id\":\"IPSL-CM6A-LR\",\"experiment_id\":\"historical\",\"member_id\":\"r10i1p1f1\",\"table_id\":\"3hr\",\"variable_id\":\"pr\",\"grid_label\":\"gr\",\"zstore\":\"gs:\\/\\/cmip6\\/CMIP\\/IPSL\\/IPSL-CM6A-LR\\/historical\\/r10i1p1f1\\/3hr\\/pr\\/gr\\/\",\"date_start\":\"1850-01-01\",\"date_stop\":\"2014-12-31\",\"time_len\":482120.0,\"sizeG\":30.3},{\"index\":6449,\"qgrid_unfiltered_index\":6449,\"activity_id\":\"CMIP\",\"source_id\":\"IPSL-CM6A-LR\",\"experiment_id\":\"historical\",\"member_id\":\"r10i1p1f1\",\"table_id\":\"3hr\",\"variable_id\":\"uas\",\"grid_label\":\"gr\",\"zstore\":\"gs:\\/\\/cmip6\\/CMIP\\/IPSL\\/IPSL-CM6A-LR\\/historical\\/r10i1p1f1\\/3hr\\/uas\\/gr\\/\",\"date_start\":\"1850-01-01\",\"date_stop\":\"2015-01-01\",\"time_len\":482120.0,\"sizeG\":34.6},{\"index\":6450,\"qgrid_unfiltered_index\":6450,\"activity_id\":\"CMIP\",\"source_id\":\"IPSL-CM6A-LR\",\"experiment_id\":\"historical\",\"member_id\":\"r10i1p1f1\",\"table_id\":\"3hr\",\"variable_id\":\"vas\",\"grid_label\":\"gr\",\"zstore\":\"gs:\\/\\/cmip6\\/CMIP\\/IPSL\\/IPSL-CM6A-LR\\/historical\\/r10i1p1f1\\/3hr\\/vas\\/gr\\/\",\"date_start\":\"1850-01-01\",\"date_stop\":\"2015-01-01\",\"time_len\":482120.0,\"sizeG\":35.2}]}",
       "_df_range": [
        0,
        100
       ],
       "_editable_rows": {},
       "_index_col_name": "qgrid_unfiltered_index",
       "_interval_columns": [],
       "_model_module_version": "1.1.1",
       "_multi_index": false,
       "_row_count": 13,
       "_row_styles": {},
       "_sort_ascending": true,
       "_sort_field": null,
       "_view_module_version": "1.1.1",
       "_viewport_range": [
        0,
        100
       ],
       "grid_options": {
        "autoEdit": false,
        "boldIndex": true,
        "defaultColumnWidth": 150,
        "editable": true,
        "enableColumnReorder": false,
        "enableTextSelectionOnCells": true,
        "explicitInitialization": true,
        "filterable": true,
        "forceFitColumns": true,
        "fullWidthRows": true,
        "highlightSelectedCell": false,
        "highlightSelectedRow": true,
        "maxVisibleRows": 15,
        "minVisibleRows": 8,
        "rowHeight": 28,
        "sortable": true,
        "syncColumnCellResize": true
       },
       "id": "0026d759-693f-41ad-a268-278f84ffd381",
       "layout": "IPY_MODEL_3187519d1a6d437fbfe745ee2f8ab413",
       "precision": 5,
       "show_toolbar": false
      }
     }
    },
    "version_major": 2,
    "version_minor": 0
   }
  }
 },
 "nbformat": 4,
 "nbformat_minor": 4
}
