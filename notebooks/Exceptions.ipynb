{
 "cells": [
  {
   "cell_type": "markdown",
   "metadata": {},
   "source": [
    "### Part 2.  We collect the CMIP6 Data Issues with the Google Form\n",
    "[Collection Form](https://tinyurl.com/y5cw76at)\n",
    "- this notebook reads the corresponding Google Sheet as a csv file\n",
    "- currently all the issues filed by 'nhn2@columbia.edu' are the issues used to concatenate the netcdf files in time to create zarr files in Google Cloud Storage (GCS)"
   ]
  },
  {
   "cell_type": "code",
   "execution_count": null,
   "metadata": {},
   "outputs": [],
   "source": [
    "import os\n",
    "import pandas as pd\n",
    "import numpy as np\n",
    "from my_search import esgf_search\n",
    "import xarray as xr\n",
    "import cftime\n",
    "#import qgrid"
   ]
  },
  {
   "cell_type": "code",
   "execution_count": null,
   "metadata": {},
   "outputs": [],
   "source": [
    "# Link to the current list csv file of CMIP6 data issues collected through \n",
    "df = pd.read_csv('https://tinyurl.com/y3wmptly')"
   ]
  },
  {
   "cell_type": "code",
   "execution_count": null,
   "metadata": {},
   "outputs": [],
   "source": [
    "df.head()"
   ]
  },
  {
   "cell_type": "code",
   "execution_count": null,
   "metadata": {},
   "outputs": [],
   "source": [
    "cat = pd.read_csv('https://cmip6.storage.googleapis.com/cmip6-zarr-consolidated-stores.csv')\n",
    "cat.head()"
   ]
  },
  {
   "cell_type": "code",
   "execution_count": null,
   "metadata": {},
   "outputs": [],
   "source": [
    "# define a simple search on keywords\n",
    "def search_df(df, **search):\n",
    "    d = df\n",
    "    for skey in search.keys():\n",
    "        print(skey,search[skey])\n",
    "        d = d [ d[skey] == search[skey] ]\n",
    "    return d"
   ]
  },
  {
   "cell_type": "code",
   "execution_count": null,
   "metadata": {},
   "outputs": [],
   "source": [
    "df.keys()"
   ]
  },
  {
   "cell_type": "code",
   "execution_count": null,
   "metadata": {},
   "outputs": [],
   "source": [
    "# THIS SECTION REQUIRES MORE WORK - beware from here on ...\n",
    "\n",
    "# Find files in our existing collection which are in the exception list (most have already been fixed)\n",
    "dfs = df[['how_to_fix','source_id','experiment_id','member_id', 'table_id', 'variable_id', 'grid_label']]\n",
    "dfall = []\n",
    "for index, drow in dfs.iterrows():\n",
    "    issue_fix = drow['how_to_fix']\n",
    "    del drow['how_to_fix']\n",
    "    dfthis = search_df(cat,**drow)\n",
    "    dfthis['fix_code'] = issue_fix\n",
    "    print(index,len(dfthis))\n",
    "    dfall += [dfthis]\n",
    "dfcat = pd.concat(dfall,sort=False)\n",
    "#qgrid.show_grid(dfcat)\n",
    "dfcat.head()"
   ]
  },
  {
   "cell_type": "code",
   "execution_count": null,
   "metadata": {},
   "outputs": [],
   "source": [
    "# grab tracking id from a zarr:\n",
    "tracking_id = \"hdl:21.14100/dca6a9f1-0ab9-4ab4-a661-9c49955bbd99\\nhdl:21.14100/c13d7735-561e-4d34-9a9e-ec587ad18a2f\\nhdl:21.14100/27d2a2f1-4ef7-4dfd-b1aa-c912ce569054\\nhdl:21.14100/b36801f6-359a-4ce4-a423-f89676444659\\nhdl:21.14100/7d61d119-9c99-4afa-9376-cd016c6520b6\\nhdl:21.14100/2ebfd9a7-dea1-4bb6-97c1-a636901ed2e1\\nhdl:21.14100/c5563f39-a6c7-41c8-a6e4-9221859019c9\\nhdl:21.14100/f55c6182-0bfb-45c5-bebb-98af2465f6f5\\nhdl:21.14100/e5dd99a9-df00-4c9b-93b2-e3d831a16d4e\""
   ]
  },
  {
   "cell_type": "code",
   "execution_count": null,
   "metadata": {},
   "outputs": [],
   "source": [
    "tracks = tracking_id.split('\\n')"
   ]
  },
  {
   "cell_type": "code",
   "execution_count": null,
   "metadata": {},
   "outputs": [],
   "source": [
    "import pandas as pd\n",
    "\n",
    "df_list = []\n",
    "for track in tracks:\n",
    "    files= esgf_search(server=\"https://esgf-node.llnl.gov/esg-search/search\", mip_era='CMIP6', tracking_id=track, \n",
    "                                     page_size=500, verbose=False)\n",
    "    files.loc[:,'version'] = [str.split('/')[-2] for str in files['HTTPServer_url']]\n",
    "    files.loc[:,'file_name'] = [str.split('/')[-1] for str in files['HTTPServer_url']]\n",
    "    # might need to set activity_id to activity_drs for some files (see old versions)\n",
    "    files.loc[:,'activity_id'] = files.activity_drs\n",
    "    files.loc[:,'time_range'] = [str[-28:-3] for str in files['file_name']]\n",
    "    files.loc[:,'century'] = [str[-28:-26] for str in files['file_name']]\n",
    "    #if (experiment_id=='highresSST-present')&(('3hr' in table_id)|('6hr' in table_id)):\n",
    "    #    files = files[files.century=='20'] \n",
    "\n",
    "    df_list += [files.drop_duplicates(subset =[\"file_name\",\"version\",\"checksum\"]) ]\n",
    "dESGF = pd.concat(df_list,sort=False)\n",
    "dESGF = dESGF.drop_duplicates(subset =[\"file_name\",\"version\",\"checksum\"])"
   ]
  },
  {
   "cell_type": "code",
   "execution_count": null,
   "metadata": {},
   "outputs": [],
   "source": [
    "dESGF.keys()"
   ]
  },
  {
   "cell_type": "code",
   "execution_count": null,
   "metadata": {},
   "outputs": [],
   "source": [
    "dESGF.dataset_id.values"
   ]
  },
  {
   "cell_type": "code",
   "execution_count": null,
   "metadata": {},
   "outputs": [],
   "source": [
    "dESGF.time_range"
   ]
  },
  {
   "cell_type": "code",
   "execution_count": null,
   "metadata": {},
   "outputs": [],
   "source": [
    "dESGF.HTTPServer_url.values"
   ]
  },
  {
   "cell_type": "code",
   "execution_count": null,
   "metadata": {},
   "outputs": [],
   "source": [
    "dESGF.retracted"
   ]
  },
  {
   "cell_type": "code",
   "execution_count": null,
   "metadata": {},
   "outputs": [],
   "source": [
    "dESGF.replica"
   ]
  },
  {
   "cell_type": "code",
   "execution_count": null,
   "metadata": {},
   "outputs": [],
   "source": []
  }
 ],
 "metadata": {
  "kernelspec": {
   "display_name": "pangeo-Oct2019",
   "language": "python",
   "name": "pangeo-oct2019"
  },
  "language_info": {
   "codemirror_mode": {
    "name": "ipython",
    "version": 3
   },
   "file_extension": ".py",
   "mimetype": "text/x-python",
   "name": "python",
   "nbconvert_exporter": "python",
   "pygments_lexer": "ipython3",
   "version": "3.7.3"
  },
  "widgets": {
   "application/vnd.jupyter.widget-state+json": {
    "state": {},
    "version_major": 2,
    "version_minor": 0
   }
  }
 },
 "nbformat": 4,
 "nbformat_minor": 4
}
