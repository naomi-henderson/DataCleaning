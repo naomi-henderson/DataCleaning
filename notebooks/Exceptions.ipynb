{
 "cells": [
  {
   "cell_type": "code",
   "execution_count": 1,
   "metadata": {},
   "outputs": [
    {
     "data": {
      "text/plain": [
       "'0.13.0'"
      ]
     },
     "execution_count": 1,
     "metadata": {},
     "output_type": "execute_result"
    }
   ],
   "source": [
    "import os\n",
    "import pandas as pd\n",
    "import numpy as np\n",
    "import my_search\n",
    "import xarray as xr\n",
    "import cftime\n",
    "import qgrid\n",
    "xr.__version__"
   ]
  },
  {
   "cell_type": "code",
   "execution_count": 45,
   "metadata": {},
   "outputs": [],
   "source": [
    "df = pd.read_csv('http://fletcher.ldeo.columbia.edu/catalogs/exceptions.csv')"
   ]
  },
  {
   "cell_type": "code",
   "execution_count": 46,
   "metadata": {},
   "outputs": [
    {
     "data": {
      "text/html": [
       "<div>\n",
       "<style scoped>\n",
       "    .dataframe tbody tr th:only-of-type {\n",
       "        vertical-align: middle;\n",
       "    }\n",
       "\n",
       "    .dataframe tbody tr th {\n",
       "        vertical-align: top;\n",
       "    }\n",
       "\n",
       "    .dataframe thead th {\n",
       "        text-align: right;\n",
       "    }\n",
       "</style>\n",
       "<table border=\"1\" class=\"dataframe\">\n",
       "  <thead>\n",
       "    <tr style=\"text-align: right;\">\n",
       "      <th></th>\n",
       "      <th>source_id</th>\n",
       "      <th>experiment_id</th>\n",
       "      <th>member_id</th>\n",
       "      <th>table_id</th>\n",
       "      <th>variable_id</th>\n",
       "      <th>grid_label</th>\n",
       "      <th>reason_code</th>\n",
       "      <th>reason_txt</th>\n",
       "    </tr>\n",
       "  </thead>\n",
       "  <tbody>\n",
       "    <tr>\n",
       "      <td>0</td>\n",
       "      <td>EC-Earth3</td>\n",
       "      <td>historical</td>\n",
       "      <td>r2i1p1f1</td>\n",
       "      <td>Omon</td>\n",
       "      <td>tos</td>\n",
       "      <td>gr</td>\n",
       "      <td>noUse</td>\n",
       "      <td>half of files are gr- the other are still gn</td>\n",
       "    </tr>\n",
       "    <tr>\n",
       "      <td>1</td>\n",
       "      <td>EC-Earth3</td>\n",
       "      <td>historical</td>\n",
       "      <td>r2i1p1f1</td>\n",
       "      <td>Amon</td>\n",
       "      <td>all</td>\n",
       "      <td>gr</td>\n",
       "      <td>noUse</td>\n",
       "      <td>half of files are gr- the other are still gn</td>\n",
       "    </tr>\n",
       "    <tr>\n",
       "      <td>2</td>\n",
       "      <td>EC-Earth3</td>\n",
       "      <td>historical</td>\n",
       "      <td>r24i1p1f1</td>\n",
       "      <td>Amon</td>\n",
       "      <td>uas</td>\n",
       "      <td>gr</td>\n",
       "      <td>noUse</td>\n",
       "      <td>after 2008 the files do not concatenate</td>\n",
       "    </tr>\n",
       "    <tr>\n",
       "      <td>3</td>\n",
       "      <td>EC-Earth3</td>\n",
       "      <td>historical</td>\n",
       "      <td>r24i1p1f1</td>\n",
       "      <td>Amon</td>\n",
       "      <td>vas</td>\n",
       "      <td>gr</td>\n",
       "      <td>noUse</td>\n",
       "      <td>after 2008 the files do not concatenate</td>\n",
       "    </tr>\n",
       "    <tr>\n",
       "      <td>4</td>\n",
       "      <td>EC-Earth3</td>\n",
       "      <td>historical</td>\n",
       "      <td>r2i1p1f1</td>\n",
       "      <td>LImon</td>\n",
       "      <td>snw</td>\n",
       "      <td>gr</td>\n",
       "      <td>noUse</td>\n",
       "      <td>half of files are gr- the other are still gn</td>\n",
       "    </tr>\n",
       "    <tr>\n",
       "      <td>...</td>\n",
       "      <td>...</td>\n",
       "      <td>...</td>\n",
       "      <td>...</td>\n",
       "      <td>...</td>\n",
       "      <td>...</td>\n",
       "      <td>...</td>\n",
       "      <td>...</td>\n",
       "      <td>...</td>\n",
       "    </tr>\n",
       "    <tr>\n",
       "      <td>106</td>\n",
       "      <td>EC-Earth3-LR</td>\n",
       "      <td>piControl</td>\n",
       "      <td>r1i1p1f1</td>\n",
       "      <td>Amon</td>\n",
       "      <td>vas</td>\n",
       "      <td>gr</td>\n",
       "      <td>noUse</td>\n",
       "      <td>change Amon to Aclim</td>\n",
       "    </tr>\n",
       "    <tr>\n",
       "      <td>107</td>\n",
       "      <td>EC-Earth3-LR</td>\n",
       "      <td>piControl</td>\n",
       "      <td>r1i1p1f1</td>\n",
       "      <td>SImon</td>\n",
       "      <td>siconc</td>\n",
       "      <td>gn</td>\n",
       "      <td>noUse</td>\n",
       "      <td>change SImon to SIclim</td>\n",
       "    </tr>\n",
       "    <tr>\n",
       "      <td>108</td>\n",
       "      <td>EC-Earth3-LR</td>\n",
       "      <td>piControl</td>\n",
       "      <td>r1i1p1f1</td>\n",
       "      <td>SImon</td>\n",
       "      <td>sithick</td>\n",
       "      <td>gn</td>\n",
       "      <td>noUse</td>\n",
       "      <td>change SImon to SIclim</td>\n",
       "    </tr>\n",
       "    <tr>\n",
       "      <td>109</td>\n",
       "      <td>EC-Earth3-Veg</td>\n",
       "      <td>historical</td>\n",
       "      <td>r1i1p1f1</td>\n",
       "      <td>Omon</td>\n",
       "      <td>masscello</td>\n",
       "      <td>gn</td>\n",
       "      <td>noUse</td>\n",
       "      <td>change Omon to Oclim</td>\n",
       "    </tr>\n",
       "    <tr>\n",
       "      <td>110</td>\n",
       "      <td>EC-Earth3</td>\n",
       "      <td>historical</td>\n",
       "      <td>all</td>\n",
       "      <td>Emon</td>\n",
       "      <td>orog</td>\n",
       "      <td>gr</td>\n",
       "      <td>noUse</td>\n",
       "      <td>???</td>\n",
       "    </tr>\n",
       "  </tbody>\n",
       "</table>\n",
       "<p>111 rows × 8 columns</p>\n",
       "</div>"
      ],
      "text/plain": [
       "         source_id experiment_id  member_id table_id variable_id grid_label  \\\n",
       "0        EC-Earth3    historical   r2i1p1f1     Omon         tos         gr   \n",
       "1        EC-Earth3    historical   r2i1p1f1     Amon         all         gr   \n",
       "2        EC-Earth3    historical  r24i1p1f1     Amon         uas         gr   \n",
       "3        EC-Earth3    historical  r24i1p1f1     Amon         vas         gr   \n",
       "4        EC-Earth3    historical   r2i1p1f1    LImon         snw         gr   \n",
       "..             ...           ...        ...      ...         ...        ...   \n",
       "106   EC-Earth3-LR     piControl   r1i1p1f1     Amon         vas         gr   \n",
       "107   EC-Earth3-LR     piControl   r1i1p1f1    SImon      siconc         gn   \n",
       "108   EC-Earth3-LR     piControl   r1i1p1f1    SImon     sithick         gn   \n",
       "109  EC-Earth3-Veg    historical   r1i1p1f1     Omon   masscello         gn   \n",
       "110      EC-Earth3    historical        all     Emon        orog         gr   \n",
       "\n",
       "    reason_code                                     reason_txt  \n",
       "0         noUse   half of files are gr- the other are still gn  \n",
       "1         noUse   half of files are gr- the other are still gn  \n",
       "2         noUse        after 2008 the files do not concatenate  \n",
       "3         noUse        after 2008 the files do not concatenate  \n",
       "4         noUse   half of files are gr- the other are still gn  \n",
       "..          ...                                            ...  \n",
       "106       noUse                           change Amon to Aclim  \n",
       "107       noUse                         change SImon to SIclim  \n",
       "108       noUse                         change SImon to SIclim  \n",
       "109       noUse                           change Omon to Oclim  \n",
       "110       noUse                                          ???    \n",
       "\n",
       "[111 rows x 8 columns]"
      ]
     },
     "execution_count": 46,
     "metadata": {},
     "output_type": "execute_result"
    }
   ],
   "source": [
    "df"
   ]
  },
  {
   "cell_type": "code",
   "execution_count": 47,
   "metadata": {},
   "outputs": [],
   "source": [
    "cat = pd.read_csv('https://cmip6.storage.googleapis.com/cmip6.csv')"
   ]
  },
  {
   "cell_type": "code",
   "execution_count": 65,
   "metadata": {},
   "outputs": [],
   "source": [
    "# define a simple search on keywords\n",
    "def search_df(df, **search):\n",
    "    d = df\n",
    "    for skey in search.keys():\n",
    "        #print(skey,search[skey])\n",
    "        d = d [ d[skey] == search[skey] ]\n",
    "    return d"
   ]
  },
  {
   "cell_type": "code",
   "execution_count": 68,
   "metadata": {},
   "outputs": [
    {
     "data": {
      "application/vnd.jupyter.widget-view+json": {
       "model_id": "a15e193ee661472d814afc0e2f0a5c48",
       "version_major": 2,
       "version_minor": 0
      },
      "text/plain": [
       "QgridWidget(grid_options={'fullWidthRows': True, 'syncColumnCellResize': True, 'forceFitColumns': True, 'defau…"
      ]
     },
     "metadata": {},
     "output_type": "display_data"
    }
   ],
   "source": [
    "keys = ['source_id','experiment_id','member_id', 'table_id', 'variable_id', 'grid_label'] \n",
    "dfall = []\n",
    "for index, row in df[0:].iterrows():\n",
    "    drow = row.to_dict()\n",
    "    del drow['reason_code']\n",
    "    del drow['reason_txt']\n",
    "    if drow['variable_id'] == 'all'\n",
    "    dfall += [search_df(cat,**drow)]\n",
    "dfcat = pd.concat(dfall,sort=False)\n",
    "qgrid.show_grid(dfcat)"
   ]
  },
  {
   "cell_type": "code",
   "execution_count": 1,
   "metadata": {},
   "outputs": [],
   "source": [
    "# grab tracking id from a zarr:\n",
    "tracking_id = \"hdl:21.14100/dca6a9f1-0ab9-4ab4-a661-9c49955bbd99\\nhdl:21.14100/c13d7735-561e-4d34-9a9e-ec587ad18a2f\\nhdl:21.14100/27d2a2f1-4ef7-4dfd-b1aa-c912ce569054\\nhdl:21.14100/b36801f6-359a-4ce4-a423-f89676444659\\nhdl:21.14100/7d61d119-9c99-4afa-9376-cd016c6520b6\\nhdl:21.14100/2ebfd9a7-dea1-4bb6-97c1-a636901ed2e1\\nhdl:21.14100/c5563f39-a6c7-41c8-a6e4-9221859019c9\\nhdl:21.14100/f55c6182-0bfb-45c5-bebb-98af2465f6f5\\nhdl:21.14100/e5dd99a9-df00-4c9b-93b2-e3d831a16d4e\""
   ]
  },
  {
   "cell_type": "code",
   "execution_count": 4,
   "metadata": {},
   "outputs": [],
   "source": [
    "tracks = tracking_id.split('\\n')"
   ]
  },
  {
   "cell_type": "code",
   "execution_count": null,
   "metadata": {},
   "outputs": [],
   "source": [
    "import my_search\n",
    "import pandas as pd\n",
    "\n",
    "df_list = []\n",
    "for track in tracks:\n",
    "    files= my_search.esgf_search(server=\"https://esgf-node.llnl.gov/esg-search/search\", mip_era='CMIP6', tracking_id=track, \n",
    "                                     page_size=500, verbose=False)\n",
    "    files.loc[:,'version'] = [str.split('/')[-2] for str in files['HTTPServer_url']]\n",
    "    files.loc[:,'file_name'] = [str.split('/')[-1] for str in files['HTTPServer_url']]\n",
    "    # might need to set activity_id to activity_drs for some files (see old versions)\n",
    "    files.loc[:,'activity_id'] = files.activity_drs\n",
    "    files.loc[:,'time_range'] = [str[-28:-3] for str in files['file_name']]\n",
    "    files.loc[:,'century'] = [str[-28:-26] for str in files['file_name']]\n",
    "    #if (experiment_id=='highresSST-present')&(('3hr' in table_id)|('6hr' in table_id)):\n",
    "    #    files = files[files.century=='20'] \n",
    "\n",
    "    df_list += [files.drop_duplicates(subset =[\"file_name\",\"version\",\"checksum\"]) ]\n",
    "dESGF = pd.concat(df_list,sort=False)\n",
    "dESGF = dESGF.drop_duplicates(subset =[\"file_name\",\"version\",\"checksum\"])"
   ]
  },
  {
   "cell_type": "code",
   "execution_count": 13,
   "metadata": {},
   "outputs": [
    {
     "data": {
      "text/plain": [
       "Index(['Globus_url', 'GridFTP_url', 'HTTPServer_url', 'OPENDAP_url',\n",
       "       '_timestamp', '_version_', 'activity_drs', 'activity_id',\n",
       "       'branch_method', 'cf_standard_name', 'checksum', 'checksum_type',\n",
       "       'citation_url', 'data_node', 'data_specs_version', 'dataset_id',\n",
       "       'dataset_id_template_', 'directory_format_template_', 'experiment_id',\n",
       "       'experiment_title', 'frequency', 'further_info_url', 'grid',\n",
       "       'grid_label', 'id', 'index_node', 'instance_id', 'institution_id',\n",
       "       'latest', 'master_id', 'member_id', 'mip_era', 'model_cohort',\n",
       "       'nominal_resolution', 'pid', 'product', 'project', 'realm', 'replica',\n",
       "       'retracted', 'score', 'size', 'source_id', 'source_type',\n",
       "       'sub_experiment_id', 'table_id', 'timestamp', 'title', 'tracking_id',\n",
       "       'type', 'variable', 'variable_id', 'variable_long_name',\n",
       "       'variable_units', 'variant_label', 'version', 'file_name', 'time_range',\n",
       "       'century'],\n",
       "      dtype='object')"
      ]
     },
     "execution_count": 13,
     "metadata": {},
     "output_type": "execute_result"
    }
   ],
   "source": [
    "dESGF.keys()"
   ]
  },
  {
   "cell_type": "code",
   "execution_count": 19,
   "metadata": {},
   "outputs": [
    {
     "data": {
      "text/plain": [
       "array(['CMIP6.ScenarioMIP.MRI.MRI-ESM2-0.ssp245.r1i1p1f1.day.hur.gn.v20190603|aims3.llnl.gov',\n",
       "       'CMIP6.ScenarioMIP.MRI.MRI-ESM2-0.ssp245.r1i1p1f1.day.hur.gn.v20190603|aims3.llnl.gov',\n",
       "       'CMIP6.ScenarioMIP.MRI.MRI-ESM2-0.ssp245.r1i1p1f1.day.hur.gn.v20190603|aims3.llnl.gov',\n",
       "       'CMIP6.ScenarioMIP.MRI.MRI-ESM2-0.ssp245.r1i1p1f1.day.hur.gn.v20190603|aims3.llnl.gov',\n",
       "       'CMIP6.ScenarioMIP.MRI.MRI-ESM2-0.ssp245.r1i1p1f1.day.hur.gn.v20190603|aims3.llnl.gov',\n",
       "       'CMIP6.ScenarioMIP.MRI.MRI-ESM2-0.ssp245.r1i1p1f1.day.hur.gn.v20190603|aims3.llnl.gov',\n",
       "       'CMIP6.ScenarioMIP.MRI.MRI-ESM2-0.ssp245.r1i1p1f1.day.hur.gn.v20190603|aims3.llnl.gov',\n",
       "       'CMIP6.ScenarioMIP.MRI.MRI-ESM2-0.ssp245.r1i1p1f1.day.hur.gn.v20190603|aims3.llnl.gov',\n",
       "       'CMIP6.ScenarioMIP.MRI.MRI-ESM2-0.ssp245.r1i1p1f1.day.hur.gn.v20190603|aims3.llnl.gov'],\n",
       "      dtype=object)"
      ]
     },
     "execution_count": 19,
     "metadata": {},
     "output_type": "execute_result"
    }
   ],
   "source": [
    "dESGF.dataset_id.values"
   ]
  },
  {
   "cell_type": "code",
   "execution_count": 18,
   "metadata": {},
   "outputs": [
    {
     "data": {
      "text/plain": [
       "0    p1f1_gn_20150101-20241231\n",
       "0    p1f1_gn_20250101-20341231\n",
       "0    p1f1_gn_20350101-20441231\n",
       "0    p1f1_gn_20450101-20541231\n",
       "0    p1f1_gn_20550101-20641231\n",
       "0    p1f1_gn_20650101-20741231\n",
       "0    p1f1_gn_20750101-20841231\n",
       "0    p1f1_gn_20850101-20941231\n",
       "0    p1f1_gn_20950101-21001231\n",
       "Name: time_range, dtype: object"
      ]
     },
     "execution_count": 18,
     "metadata": {},
     "output_type": "execute_result"
    }
   ],
   "source": [
    "dESGF.time_range"
   ]
  },
  {
   "cell_type": "code",
   "execution_count": 21,
   "metadata": {},
   "outputs": [
    {
     "data": {
      "text/plain": [
       "array(['http://aims3.llnl.gov/thredds/fileServer/css03_data/CMIP6/ScenarioMIP/MRI/MRI-ESM2-0/ssp245/r1i1p1f1/day/hur/gn/v20190603/hur_day_MRI-ESM2-0_ssp245_r1i1p1f1_gn_20150101-20241231.nc',\n",
       "       'http://aims3.llnl.gov/thredds/fileServer/css03_data/CMIP6/ScenarioMIP/MRI/MRI-ESM2-0/ssp245/r1i1p1f1/day/hur/gn/v20190603/hur_day_MRI-ESM2-0_ssp245_r1i1p1f1_gn_20250101-20341231.nc',\n",
       "       'http://aims3.llnl.gov/thredds/fileServer/css03_data/CMIP6/ScenarioMIP/MRI/MRI-ESM2-0/ssp245/r1i1p1f1/day/hur/gn/v20190603/hur_day_MRI-ESM2-0_ssp245_r1i1p1f1_gn_20350101-20441231.nc',\n",
       "       'http://aims3.llnl.gov/thredds/fileServer/css03_data/CMIP6/ScenarioMIP/MRI/MRI-ESM2-0/ssp245/r1i1p1f1/day/hur/gn/v20190603/hur_day_MRI-ESM2-0_ssp245_r1i1p1f1_gn_20450101-20541231.nc',\n",
       "       'http://aims3.llnl.gov/thredds/fileServer/css03_data/CMIP6/ScenarioMIP/MRI/MRI-ESM2-0/ssp245/r1i1p1f1/day/hur/gn/v20190603/hur_day_MRI-ESM2-0_ssp245_r1i1p1f1_gn_20550101-20641231.nc',\n",
       "       'http://aims3.llnl.gov/thredds/fileServer/css03_data/CMIP6/ScenarioMIP/MRI/MRI-ESM2-0/ssp245/r1i1p1f1/day/hur/gn/v20190603/hur_day_MRI-ESM2-0_ssp245_r1i1p1f1_gn_20650101-20741231.nc',\n",
       "       'http://aims3.llnl.gov/thredds/fileServer/css03_data/CMIP6/ScenarioMIP/MRI/MRI-ESM2-0/ssp245/r1i1p1f1/day/hur/gn/v20190603/hur_day_MRI-ESM2-0_ssp245_r1i1p1f1_gn_20750101-20841231.nc',\n",
       "       'http://aims3.llnl.gov/thredds/fileServer/css03_data/CMIP6/ScenarioMIP/MRI/MRI-ESM2-0/ssp245/r1i1p1f1/day/hur/gn/v20190603/hur_day_MRI-ESM2-0_ssp245_r1i1p1f1_gn_20850101-20941231.nc',\n",
       "       'http://aims3.llnl.gov/thredds/fileServer/css03_data/CMIP6/ScenarioMIP/MRI/MRI-ESM2-0/ssp245/r1i1p1f1/day/hur/gn/v20190603/hur_day_MRI-ESM2-0_ssp245_r1i1p1f1_gn_20950101-21001231.nc'],\n",
       "      dtype=object)"
      ]
     },
     "execution_count": 21,
     "metadata": {},
     "output_type": "execute_result"
    }
   ],
   "source": [
    "dESGF.HTTPServer_url.values"
   ]
  },
  {
   "cell_type": "code",
   "execution_count": 22,
   "metadata": {},
   "outputs": [
    {
     "data": {
      "text/plain": [
       "0    False\n",
       "0    False\n",
       "0    False\n",
       "0    False\n",
       "0    False\n",
       "0    False\n",
       "0    False\n",
       "0    False\n",
       "0    False\n",
       "Name: retracted, dtype: bool"
      ]
     },
     "execution_count": 22,
     "metadata": {},
     "output_type": "execute_result"
    }
   ],
   "source": [
    "dESGF.retracted"
   ]
  },
  {
   "cell_type": "code",
   "execution_count": 23,
   "metadata": {},
   "outputs": [
    {
     "data": {
      "text/plain": [
       "0    True\n",
       "0    True\n",
       "0    True\n",
       "0    True\n",
       "0    True\n",
       "0    True\n",
       "0    True\n",
       "0    True\n",
       "0    True\n",
       "Name: replica, dtype: bool"
      ]
     },
     "execution_count": 23,
     "metadata": {},
     "output_type": "execute_result"
    }
   ],
   "source": [
    "dESGF.replica"
   ]
  },
  {
   "cell_type": "code",
   "execution_count": null,
   "metadata": {},
   "outputs": [],
   "source": []
  }
 ],
 "metadata": {
  "kernelspec": {
   "display_name": "pangeo-latest",
   "language": "python",
   "name": "pangeo-latest"
  },
  "language_info": {
   "codemirror_mode": {
    "name": "ipython",
    "version": 3
   },
   "file_extension": ".py",
   "mimetype": "text/x-python",
   "name": "python",
   "nbconvert_exporter": "python",
   "pygments_lexer": "ipython3",
   "version": "3.7.3"
  },
  "widgets": {
   "application/vnd.jupyter.widget-state+json": {
    "state": {},
    "version_major": 2,
    "version_minor": 0
   }
  }
 },
 "nbformat": 4,
 "nbformat_minor": 4
}
