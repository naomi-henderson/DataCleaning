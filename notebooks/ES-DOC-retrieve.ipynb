{
 "cells": [
  {
   "cell_type": "markdown",
   "metadata": {},
   "source": [
    "## First Attempt at converting the ES-DOC Errata ISSUES and into a CSV to use to filter our CMIP6 catalogs\n",
    "- MUST DOWNLOAD the command line client first (uses Python 2.7 only) \n",
    "'pip install esgissue-client'\n",
    "\n",
    "![es-doc](../assets/es-doc.png)"
   ]
  },
  {
   "cell_type": "markdown",
   "metadata": {},
   "source": [
    "### This is still a cludge\n",
    "\n",
    "There is an issue with the ES-DOC errata client and it does not allow queries for all `id`s . The code maintainer now understands the problem, but is away from work until early November 2019.  Until then, to get the `issue_uid` we do:\n",
    "\n",
    "*temporary:*  download the web-page: https://errata.es-doc.org/static/index.html as file.html\n",
    "   - navigate to page\n",
    "   - select '100 / page'\n",
    "   - 'Save Page As' Webpage, Complete\n",
    "   - drag the .htm into this directory"
   ]
  },
  {
   "cell_type": "code",
   "execution_count": null,
   "metadata": {},
   "outputs": [],
   "source": [
    "! /bin/grep \"<tr id=\" file.html > issues.txt\n",
    "# For now, edit issues.txt, keeping only the lines we need  "
   ]
  },
  {
   "cell_type": "code",
   "execution_count": null,
   "metadata": {},
   "outputs": [],
   "source": [
    "import os\n",
    "import pandas as pd\n",
    "from glob import glob\n",
    "#import qgrid"
   ]
  },
  {
   "cell_type": "code",
   "execution_count": null,
   "metadata": {},
   "outputs": [],
   "source": [
    "filepath = 'issues.txt'\n",
    "with open(filepath) as fp:\n",
    "    issues = []\n",
    "    line = fp.readline()\n",
    "    line = fp.readline()\n",
    "    while line:\n",
    "        issue = line.split('\"')[1]\n",
    "        issues += [issue]\n",
    "        command = '/usr/bin/esgissue retrieve -i $PWD/issues -d $PWD/dsets --id ' + issue\n",
    "        print(command)\n",
    "        os.system(command)\n",
    "        line = fp.readline()"
   ]
  },
  {
   "cell_type": "code",
   "execution_count": null,
   "metadata": {},
   "outputs": [],
   "source": [
    "import json\n",
    "\n",
    "df = pd.DataFrame(columns=['uid', 'title', 'description', 'project', 'severity', 'status','urls'])\n",
    "\n",
    "df_list = []\n",
    "for item,issue in enumerate(issues):\n",
    "    file_dsets = 'dsets/dset_'+issue+'.txt'\n",
    "    file_issue = 'issues/issue_'+issue+'.json'\n",
    "    \n",
    "    with open(file_issue) as json_file:\n",
    "        dict_issue = json.load(json_file)\n",
    "   \n",
    "    try:\n",
    "        dlist = dict_issue['urls']\n",
    "    except:\n",
    "        dict_issue['urls'] = []\n",
    "    \n",
    "    df = df.append(dict_issue,ignore_index=True)\n",
    "    df_dsets = pd.read_csv(file_dsets,delim_whitespace=True,header=None)\n",
    "    df_dsets = df_dsets.rename(columns={0: \"file_id\"}).set_index([df_dsets.index])\n",
    "    df_list += [list(df_dsets.file_id.values)]\n",
    "\n",
    "df['file_ids'] = df_list\n",
    "df = df.rename(columns={\"uid\": \"issue_uid\"})"
   ]
  },
  {
   "cell_type": "code",
   "execution_count": null,
   "metadata": {},
   "outputs": [],
   "source": [
    "df.head()"
   ]
  },
  {
   "cell_type": "code",
   "execution_count": null,
   "metadata": {},
   "outputs": [],
   "source": [
    "keywords = ['issue_uid','source_id', 'experiment_id', 'member_id', 'table_id', 'variable_id', 'grid_label', 'version', 'file_id']\n",
    "df_all = []\n",
    "for index, row in df.iterrows():\n",
    "    file_id = row['file_ids']\n",
    "    issue = row['issue_uid']\n",
    "    dfs = pd.DataFrame(columns=keywords)\n",
    "    print(index, ': issue uid:', issue, ', number of affected files:',len(file_id))\n",
    "    for file in file_id:\n",
    "        try:\n",
    "            [fill,activity_id,institution_id,source_id,experiment_id,member_id,table_id,variable_id,grid_version] = file.split('.')\n",
    "        except:\n",
    "            # one issue has two concatenated lines in the file list - go back, fix, re-run\n",
    "            print('not working for ',file)\n",
    "        [grid_label,version] = grid_version.split('#')\n",
    "        klist = [issue,source_id,experiment_id,member_id,table_id,variable_id,grid_label,version,file]\n",
    "        kdict = dict(zip(keywords, klist))\n",
    "        dfs = dfs.append(kdict,ignore_index=True)\n",
    "    df_all += [dfs]\n",
    "df_expand = pd.concat(df_all,sort=False).drop_duplicates(subset =[\"file_id\"])"
   ]
  },
  {
   "cell_type": "code",
   "execution_count": null,
   "metadata": {},
   "outputs": [],
   "source": [
    "#qgrid.show_grid(df_expand)\n",
    "df_expand.info()"
   ]
  },
  {
   "cell_type": "code",
   "execution_count": null,
   "metadata": {},
   "outputs": [],
   "source": [
    "df_expand[['source_id','file_id']].groupby(['source_id']).count()"
   ]
  },
  {
   "cell_type": "code",
   "execution_count": null,
   "metadata": {},
   "outputs": [],
   "source": [
    "df"
   ]
  }
 ],
 "metadata": {
  "kernelspec": {
   "display_name": "pangeo-Oct2019",
   "language": "python",
   "name": "pangeo-oct2019"
  },
  "language_info": {
   "codemirror_mode": {
    "name": "ipython",
    "version": 3
   },
   "file_extension": ".py",
   "mimetype": "text/x-python",
   "name": "python",
   "nbconvert_exporter": "python",
   "pygments_lexer": "ipython3",
   "version": "3.7.3"
  },
  "widgets": {
   "application/vnd.jupyter.widget-state+json": {
    "state": {},
    "version_major": 2,
    "version_minor": 0
   }
  }
 },
 "nbformat": 4,
 "nbformat_minor": 4
}
